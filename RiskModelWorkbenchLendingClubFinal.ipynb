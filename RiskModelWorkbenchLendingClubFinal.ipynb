{
 "cells": [
  {
   "cell_type": "markdown",
   "id": "e34542a5",
   "metadata": {},
   "source": [
    "# Improving Credit Risk Scorecards with GenAI Methods\n",
    "---\n",
    "\n",
    "The demo is as follows:\n",
    "* Load credit data\n",
    "* Explore it\n",
    "* Perform binning/transformations\n",
    "* Build models using scikit-learn and SAS logistic regression methods\n",
    "* Create a new SAS logistic regression model on synthetic data\n",
    "* Register to Model Manager"
   ]
  },
  {
   "cell_type": "code",
   "execution_count": 1,
   "id": "bfae2d06-c4a4-4eb1-ae42-4a7e15fdc4d7",
   "metadata": {},
   "outputs": [],
   "source": [
    "import pandas as pd\n",
    "import numpy as np\n",
    "import warnings\n",
    "warnings.filterwarnings('ignore')\n",
    "import matplotlib.pyplot as plt\n",
    "%matplotlib inline"
   ]
  },
  {
   "cell_type": "code",
   "execution_count": 2,
   "id": "6c5f0c20-d654-4a81-8042-5bf00dc9d2f1",
   "metadata": {},
   "outputs": [
    {
     "data": {
      "text/plain": [
       "Index(['CreditPolicy', 'Purpose', 'InterestRate', 'Installment',\n",
       "       'LogAnnualInc', 'DebtIncRatio', 'FICOScore', 'CreditLineAge',\n",
       "       'RevBalance', 'RevUtilization', 'Inquiries6Mnths', 'Delinquencies2Yrs',\n",
       "       'PublicRecord', 'Default'],\n",
       "      dtype='object')"
      ]
     },
     "execution_count": 2,
     "metadata": {},
     "output_type": "execute_result"
    }
   ],
   "source": [
    "credit_data = pd.read_csv('/workspaces/myfolder/data/lendingClubLoanData.csv')\n",
    "credit_data.rename(columns={\"CredLineAge\": \"CreditLineAge\"}, inplace=True)\n",
    "credit_data.columns"
   ]
  },
  {
   "cell_type": "code",
   "execution_count": 3,
   "id": "d03ae126-8147-44ac-9b38-65b7b2663754",
   "metadata": {},
   "outputs": [
    {
     "data": {
      "text/plain": [
       "(9578, 14)"
      ]
     },
     "execution_count": 3,
     "metadata": {},
     "output_type": "execute_result"
    }
   ],
   "source": [
    "credit_data.shape"
   ]
  },
  {
   "cell_type": "code",
   "execution_count": 4,
   "id": "7f11cb64-e6be-43d3-82d8-b3fb8a56cf69",
   "metadata": {},
   "outputs": [
    {
     "data": {
      "text/plain": [
       "Default\n",
       "0    8045\n",
       "1    1533\n",
       "Name: count, dtype: int64"
      ]
     },
     "execution_count": 4,
     "metadata": {},
     "output_type": "execute_result"
    }
   ],
   "source": [
    "credit_data['Default'].value_counts()"
   ]
  },
  {
   "cell_type": "code",
   "execution_count": 5,
   "id": "532a63f3-88e1-417d-8710-9b09ab714678",
   "metadata": {},
   "outputs": [
    {
     "data": {
      "text/html": [
       "<div>\n",
       "<style scoped>\n",
       "    .dataframe tbody tr th:only-of-type {\n",
       "        vertical-align: middle;\n",
       "    }\n",
       "\n",
       "    .dataframe tbody tr th {\n",
       "        vertical-align: top;\n",
       "    }\n",
       "\n",
       "    .dataframe thead th {\n",
       "        text-align: right;\n",
       "    }\n",
       "</style>\n",
       "<table border=\"1\" class=\"dataframe\">\n",
       "  <thead>\n",
       "    <tr style=\"text-align: right;\">\n",
       "      <th></th>\n",
       "      <th>CreditPolicy</th>\n",
       "      <th>InterestRate</th>\n",
       "      <th>Installment</th>\n",
       "      <th>LogAnnualInc</th>\n",
       "      <th>DebtIncRatio</th>\n",
       "      <th>FICOScore</th>\n",
       "      <th>CreditLineAge</th>\n",
       "      <th>RevBalance</th>\n",
       "      <th>RevUtilization</th>\n",
       "      <th>Inquiries6Mnths</th>\n",
       "      <th>Delinquencies2Yrs</th>\n",
       "      <th>PublicRecord</th>\n",
       "      <th>Default</th>\n",
       "    </tr>\n",
       "  </thead>\n",
       "  <tbody>\n",
       "    <tr>\n",
       "      <th>count</th>\n",
       "      <td>9578.000000</td>\n",
       "      <td>9578.000000</td>\n",
       "      <td>9578.000000</td>\n",
       "      <td>9578.000000</td>\n",
       "      <td>9578.000000</td>\n",
       "      <td>9578.000000</td>\n",
       "      <td>9578.000000</td>\n",
       "      <td>9.578000e+03</td>\n",
       "      <td>9578.000000</td>\n",
       "      <td>9578.000000</td>\n",
       "      <td>9578.000000</td>\n",
       "      <td>9578.000000</td>\n",
       "      <td>9578.000000</td>\n",
       "    </tr>\n",
       "    <tr>\n",
       "      <th>mean</th>\n",
       "      <td>0.804970</td>\n",
       "      <td>0.122640</td>\n",
       "      <td>319.089413</td>\n",
       "      <td>10.932117</td>\n",
       "      <td>12.606679</td>\n",
       "      <td>710.846314</td>\n",
       "      <td>4560.767197</td>\n",
       "      <td>1.691396e+04</td>\n",
       "      <td>46.799236</td>\n",
       "      <td>1.577469</td>\n",
       "      <td>0.163708</td>\n",
       "      <td>0.062122</td>\n",
       "      <td>0.160054</td>\n",
       "    </tr>\n",
       "    <tr>\n",
       "      <th>std</th>\n",
       "      <td>0.396245</td>\n",
       "      <td>0.026847</td>\n",
       "      <td>207.071301</td>\n",
       "      <td>0.614813</td>\n",
       "      <td>6.883970</td>\n",
       "      <td>37.970537</td>\n",
       "      <td>2496.930377</td>\n",
       "      <td>3.375619e+04</td>\n",
       "      <td>29.014417</td>\n",
       "      <td>2.200245</td>\n",
       "      <td>0.546215</td>\n",
       "      <td>0.262126</td>\n",
       "      <td>0.366676</td>\n",
       "    </tr>\n",
       "    <tr>\n",
       "      <th>min</th>\n",
       "      <td>0.000000</td>\n",
       "      <td>0.060000</td>\n",
       "      <td>15.670000</td>\n",
       "      <td>7.547502</td>\n",
       "      <td>0.000000</td>\n",
       "      <td>612.000000</td>\n",
       "      <td>178.958333</td>\n",
       "      <td>0.000000e+00</td>\n",
       "      <td>0.000000</td>\n",
       "      <td>0.000000</td>\n",
       "      <td>0.000000</td>\n",
       "      <td>0.000000</td>\n",
       "      <td>0.000000</td>\n",
       "    </tr>\n",
       "    <tr>\n",
       "      <th>25%</th>\n",
       "      <td>1.000000</td>\n",
       "      <td>0.103900</td>\n",
       "      <td>163.770000</td>\n",
       "      <td>10.558414</td>\n",
       "      <td>7.212500</td>\n",
       "      <td>682.000000</td>\n",
       "      <td>2820.000000</td>\n",
       "      <td>3.187000e+03</td>\n",
       "      <td>22.600000</td>\n",
       "      <td>0.000000</td>\n",
       "      <td>0.000000</td>\n",
       "      <td>0.000000</td>\n",
       "      <td>0.000000</td>\n",
       "    </tr>\n",
       "    <tr>\n",
       "      <th>50%</th>\n",
       "      <td>1.000000</td>\n",
       "      <td>0.122100</td>\n",
       "      <td>268.950000</td>\n",
       "      <td>10.928884</td>\n",
       "      <td>12.665000</td>\n",
       "      <td>707.000000</td>\n",
       "      <td>4139.958333</td>\n",
       "      <td>8.596000e+03</td>\n",
       "      <td>46.300000</td>\n",
       "      <td>1.000000</td>\n",
       "      <td>0.000000</td>\n",
       "      <td>0.000000</td>\n",
       "      <td>0.000000</td>\n",
       "    </tr>\n",
       "    <tr>\n",
       "      <th>75%</th>\n",
       "      <td>1.000000</td>\n",
       "      <td>0.140700</td>\n",
       "      <td>432.762500</td>\n",
       "      <td>11.291293</td>\n",
       "      <td>17.950000</td>\n",
       "      <td>737.000000</td>\n",
       "      <td>5730.000000</td>\n",
       "      <td>1.824950e+04</td>\n",
       "      <td>70.900000</td>\n",
       "      <td>2.000000</td>\n",
       "      <td>0.000000</td>\n",
       "      <td>0.000000</td>\n",
       "      <td>0.000000</td>\n",
       "    </tr>\n",
       "    <tr>\n",
       "      <th>max</th>\n",
       "      <td>1.000000</td>\n",
       "      <td>0.216400</td>\n",
       "      <td>940.140000</td>\n",
       "      <td>14.528354</td>\n",
       "      <td>29.960000</td>\n",
       "      <td>827.000000</td>\n",
       "      <td>17639.958330</td>\n",
       "      <td>1.207359e+06</td>\n",
       "      <td>119.000000</td>\n",
       "      <td>33.000000</td>\n",
       "      <td>13.000000</td>\n",
       "      <td>5.000000</td>\n",
       "      <td>1.000000</td>\n",
       "    </tr>\n",
       "  </tbody>\n",
       "</table>\n",
       "</div>"
      ],
      "text/plain": [
       "       CreditPolicy  InterestRate  Installment  LogAnnualInc  DebtIncRatio  \\\n",
       "count   9578.000000   9578.000000  9578.000000   9578.000000   9578.000000   \n",
       "mean       0.804970      0.122640   319.089413     10.932117     12.606679   \n",
       "std        0.396245      0.026847   207.071301      0.614813      6.883970   \n",
       "min        0.000000      0.060000    15.670000      7.547502      0.000000   \n",
       "25%        1.000000      0.103900   163.770000     10.558414      7.212500   \n",
       "50%        1.000000      0.122100   268.950000     10.928884     12.665000   \n",
       "75%        1.000000      0.140700   432.762500     11.291293     17.950000   \n",
       "max        1.000000      0.216400   940.140000     14.528354     29.960000   \n",
       "\n",
       "         FICOScore  CreditLineAge    RevBalance  RevUtilization  \\\n",
       "count  9578.000000    9578.000000  9.578000e+03     9578.000000   \n",
       "mean    710.846314    4560.767197  1.691396e+04       46.799236   \n",
       "std      37.970537    2496.930377  3.375619e+04       29.014417   \n",
       "min     612.000000     178.958333  0.000000e+00        0.000000   \n",
       "25%     682.000000    2820.000000  3.187000e+03       22.600000   \n",
       "50%     707.000000    4139.958333  8.596000e+03       46.300000   \n",
       "75%     737.000000    5730.000000  1.824950e+04       70.900000   \n",
       "max     827.000000   17639.958330  1.207359e+06      119.000000   \n",
       "\n",
       "       Inquiries6Mnths  Delinquencies2Yrs  PublicRecord      Default  \n",
       "count      9578.000000        9578.000000   9578.000000  9578.000000  \n",
       "mean          1.577469           0.163708      0.062122     0.160054  \n",
       "std           2.200245           0.546215      0.262126     0.366676  \n",
       "min           0.000000           0.000000      0.000000     0.000000  \n",
       "25%           0.000000           0.000000      0.000000     0.000000  \n",
       "50%           1.000000           0.000000      0.000000     0.000000  \n",
       "75%           2.000000           0.000000      0.000000     0.000000  \n",
       "max          33.000000          13.000000      5.000000     1.000000  "
      ]
     },
     "execution_count": 5,
     "metadata": {},
     "output_type": "execute_result"
    }
   ],
   "source": [
    "credit_data.describe()"
   ]
  },
  {
   "cell_type": "code",
   "execution_count": 6,
   "id": "0c249928-b50f-457b-8141-45f05605d45c",
   "metadata": {},
   "outputs": [
    {
     "data": {
      "text/plain": [
       "array([[<Axes: title={'center': 'CreditPolicy'}>,\n",
       "        <Axes: title={'center': 'InterestRate'}>,\n",
       "        <Axes: title={'center': 'Installment'}>,\n",
       "        <Axes: title={'center': 'LogAnnualInc'}>],\n",
       "       [<Axes: title={'center': 'DebtIncRatio'}>,\n",
       "        <Axes: title={'center': 'FICOScore'}>,\n",
       "        <Axes: title={'center': 'CreditLineAge'}>,\n",
       "        <Axes: title={'center': 'RevBalance'}>],\n",
       "       [<Axes: title={'center': 'RevUtilization'}>,\n",
       "        <Axes: title={'center': 'Inquiries6Mnths'}>,\n",
       "        <Axes: title={'center': 'Delinquencies2Yrs'}>,\n",
       "        <Axes: title={'center': 'PublicRecord'}>],\n",
       "       [<Axes: title={'center': 'Default'}>, <Axes: >, <Axes: >,\n",
       "        <Axes: >]], dtype=object)"
      ]
     },
     "execution_count": 6,
     "metadata": {},
     "output_type": "execute_result"
    },
    {
     "data": {
      "image/png": "[encoded data removed]",
      "text/plain": [
       "<Figure size 2000x2000 with 16 Axes>"
      ]
     },
     "metadata": {},
     "output_type": "display_data"
    }
   ],
   "source": [
    "credit_data.hist(figsize=(20,20))"
   ]
  },
  {
   "cell_type": "code",
   "execution_count": 7,
   "id": "e359f2ed",
   "metadata": {},
   "outputs": [],
   "source": [
    "from data_preprocess import woe_binning, fetch"
   ]
  },
  {
   "cell_type": "code",
   "execution_count": 8,
   "id": "8e5695f3-473b-4e97-a7a6-5a98aed187f0",
   "metadata": {},
   "outputs": [],
   "source": [
    "# Set Up Inputs and Target\n",
    "nominal_inputs = ['Purpose']\n",
    "cont_inputs = ['CreditPolicy', 'InterestRate', 'Installment',\n",
    "                'LogAnnualInc', 'DebtIncRatio', 'FICOScore',\n",
    "                'CreditLineAge', 'RevBalance', 'RevUtilization',\n",
    "                'Inquiries6Mnths', 'Delinquencies2Yrs', 'PublicRecord']\n",
    "target = 'Default'"
   ]
  },
  {
   "cell_type": "code",
   "execution_count": 9,
   "id": "ac2ed52f",
   "metadata": {},
   "outputs": [
    {
     "data": {
      "text/html": [
       "<div><b>&#167; TransInfo</b></div>\n",
       "<div class=\"cas-results=body\">\n",
       "<div>\n",
       "<style scoped>\n",
       "    .dataframe tbody tr th:only-of-type {\n",
       "        vertical-align: middle;\n",
       "    }\n",
       "\n",
       "    .dataframe tbody tr th {\n",
       "        vertical-align: top;\n",
       "    }\n",
       "\n",
       "    .dataframe thead th {\n",
       "        text-align: right;\n",
       "    }\n",
       "</style>\n",
       "<table border=\"1\" class=\"dataframe\">\n",
       "<caption style=\"text-align: center;\">Transformation Requests for credit_data</caption>\n",
       "  <thead>\n",
       "    <tr style=\"text-align: right;\">\n",
       "      <th>Name</th>\n",
       "      <th>NTransVars</th>\n",
       "      <th>NEvalVars</th>\n",
       "      <th>DisctMethod</th>\n",
       "      <th>CatTransMethod</th>\n",
       "      <th>WoeDef</th>\n",
       "      <th>WoeAdjust</th>\n",
       "      <th>IVFactor</th>\n",
       "    </tr>\n",
       "  </thead>\n",
       "  <tbody>\n",
       "    <tr>\n",
       "      <td>req_intervals</td>\n",
       "      <td>12</td>\n",
       "      <td>1</td>\n",
       "      <td>WOE</td>\n",
       "      <td>None</td>\n",
       "      <td>Non-event by event</td>\n",
       "      <td>0.5</td>\n",
       "      <td>2.0</td>\n",
       "    </tr>\n",
       "    <tr>\n",
       "      <td>req_nominals</td>\n",
       "      <td>1</td>\n",
       "      <td>1</td>\n",
       "      <td>None</td>\n",
       "      <td>WOE</td>\n",
       "      <td>Non-event by event</td>\n",
       "      <td>0.5</td>\n",
       "      <td>2.0</td>\n",
       "    </tr>\n",
       "  </tbody>\n",
       "</table>\n",
       "</div>\n",
       "</div>\n",
       "<div><hr /><b>&#167; VarTransInfo</b></div>\n",
       "<div class=\"cas-results=body\">\n",
       "<div>\n",
       "<style scoped>\n",
       "    .dataframe tbody tr th:only-of-type {\n",
       "        vertical-align: middle;\n",
       "    }\n",
       "\n",
       "    .dataframe tbody tr th {\n",
       "        vertical-align: top;\n",
       "    }\n",
       "\n",
       "    .dataframe thead th {\n",
       "        text-align: right;\n",
       "    }\n",
       "</style>\n",
       "<table border=\"1\" class=\"dataframe\">\n",
       "<caption style=\"text-align: center;\">Variable Transformation Information for credit_data</caption>\n",
       "  <thead>\n",
       "    <tr style=\"text-align: right;\">\n",
       "      <th>Variable</th>\n",
       "      <th>Transformation</th>\n",
       "      <th>EvalVar</th>\n",
       "      <th>ResultVar</th>\n",
       "      <th>N</th>\n",
       "      <th>NMiss</th>\n",
       "      <th>NBins</th>\n",
       "      <th>IV</th>\n",
       "      <th>WOESum</th>\n",
       "      <th>GiniIndex</th>\n",
       "    </tr>\n",
       "  </thead>\n",
       "  <tbody>\n",
       "    <tr>\n",
       "      <td>CreditLineAge</td>\n",
       "      <td>woe</td>\n",
       "      <td>Default</td>\n",
       "      <td>woe_CreditLineAge</td>\n",
       "      <td>9578</td>\n",
       "      <td>0</td>\n",
       "      <td>7.0</td>\n",
       "      <td>0.051601</td>\n",
       "      <td>-0.052178</td>\n",
       "      <td>0.086313</td>\n",
       "    </tr>\n",
       "    <tr>\n",
       "      <td>CreditPolicy</td>\n",
       "      <td>woe</td>\n",
       "      <td>Default</td>\n",
       "      <td>woe_CreditPolicy</td>\n",
       "      <td>9578</td>\n",
       "      <td>0</td>\n",
       "      <td>2.0</td>\n",
       "      <td>0.318636</td>\n",
       "      <td>-0.472826</td>\n",
       "      <td>0.170870</td>\n",
       "    </tr>\n",
       "    <tr>\n",
       "      <td>DebtIncRatio</td>\n",
       "      <td>woe</td>\n",
       "      <td>Default</td>\n",
       "      <td>woe_DebtIncRatio</td>\n",
       "      <td>9578</td>\n",
       "      <td>0</td>\n",
       "      <td>7.0</td>\n",
       "      <td>0.034520</td>\n",
       "      <td>0.356557</td>\n",
       "      <td>0.072324</td>\n",
       "    </tr>\n",
       "    <tr>\n",
       "      <td>Delinquencies2Yrs</td>\n",
       "      <td>woe</td>\n",
       "      <td>Default</td>\n",
       "      <td>woe_Delinquencies2Yrs</td>\n",
       "      <td>9578</td>\n",
       "      <td>0</td>\n",
       "      <td>2.0</td>\n",
       "      <td>0.003173</td>\n",
       "      <td>-0.092431</td>\n",
       "      <td>0.013000</td>\n",
       "    </tr>\n",
       "    <tr>\n",
       "      <td>FICOScore</td>\n",
       "      <td>woe</td>\n",
       "      <td>Default</td>\n",
       "      <td>woe_FICOScore</td>\n",
       "      <td>9578</td>\n",
       "      <td>0</td>\n",
       "      <td>7.0</td>\n",
       "      <td>0.396194</td>\n",
       "      <td>1.266230</td>\n",
       "      <td>0.230320</td>\n",
       "    </tr>\n",
       "    <tr>\n",
       "      <td>Inquiries6Mnths</td>\n",
       "      <td>woe</td>\n",
       "      <td>Default</td>\n",
       "      <td>woe_Inquiries6Mnths</td>\n",
       "      <td>9578</td>\n",
       "      <td>0</td>\n",
       "      <td>5.0</td>\n",
       "      <td>0.314849</td>\n",
       "      <td>-0.737692</td>\n",
       "      <td>0.201602</td>\n",
       "    </tr>\n",
       "    <tr>\n",
       "      <td>Installment</td>\n",
       "      <td>woe</td>\n",
       "      <td>Default</td>\n",
       "      <td>woe_Installment</td>\n",
       "      <td>9578</td>\n",
       "      <td>0</td>\n",
       "      <td>7.0</td>\n",
       "      <td>0.084850</td>\n",
       "      <td>-0.385068</td>\n",
       "      <td>0.107556</td>\n",
       "    </tr>\n",
       "    <tr>\n",
       "      <td>InterestRate</td>\n",
       "      <td>woe</td>\n",
       "      <td>Default</td>\n",
       "      <td>woe_InterestRate</td>\n",
       "      <td>9578</td>\n",
       "      <td>0</td>\n",
       "      <td>7.0</td>\n",
       "      <td>0.495550</td>\n",
       "      <td>0.856365</td>\n",
       "      <td>0.242861</td>\n",
       "    </tr>\n",
       "    <tr>\n",
       "      <td>LogAnnualInc</td>\n",
       "      <td>woe</td>\n",
       "      <td>Default</td>\n",
       "      <td>woe_LogAnnualInc</td>\n",
       "      <td>9578</td>\n",
       "      <td>0</td>\n",
       "      <td>7.0</td>\n",
       "      <td>0.055499</td>\n",
       "      <td>-0.284088</td>\n",
       "      <td>0.088878</td>\n",
       "    </tr>\n",
       "    <tr>\n",
       "      <td>PublicRecord</td>\n",
       "      <td>woe</td>\n",
       "      <td>Default</td>\n",
       "      <td>woe_PublicRecord</td>\n",
       "      <td>9578</td>\n",
       "      <td>0</td>\n",
       "      <td>2.0</td>\n",
       "      <td>0.043947</td>\n",
       "      <td>-0.501862</td>\n",
       "      <td>0.037689</td>\n",
       "    </tr>\n",
       "    <tr>\n",
       "      <td>RevBalance</td>\n",
       "      <td>woe</td>\n",
       "      <td>Default</td>\n",
       "      <td>woe_RevBalance</td>\n",
       "      <td>9578</td>\n",
       "      <td>0</td>\n",
       "      <td>4.0</td>\n",
       "      <td>0.032329</td>\n",
       "      <td>-0.245450</td>\n",
       "      <td>0.045192</td>\n",
       "    </tr>\n",
       "    <tr>\n",
       "      <td>RevUtilization</td>\n",
       "      <td>woe</td>\n",
       "      <td>Default</td>\n",
       "      <td>woe_RevUtilization</td>\n",
       "      <td>9578</td>\n",
       "      <td>0</td>\n",
       "      <td>7.0</td>\n",
       "      <td>0.151540</td>\n",
       "      <td>0.474550</td>\n",
       "      <td>0.148548</td>\n",
       "    </tr>\n",
       "    <tr>\n",
       "      <td>Purpose</td>\n",
       "      <td>woe</td>\n",
       "      <td>Default</td>\n",
       "      <td>woe_Purpose</td>\n",
       "      <td>9578</td>\n",
       "      <td>0</td>\n",
       "      <td>5.0</td>\n",
       "      <td>0.134019</td>\n",
       "      <td>-0.451988</td>\n",
       "      <td>0.124382</td>\n",
       "    </tr>\n",
       "  </tbody>\n",
       "</table>\n",
       "</div>\n",
       "</div>\n",
       "<div><hr /><b>&#167; NomVarInfo</b></div>\n",
       "<div class=\"cas-results=body\">\n",
       "<div>\n",
       "<style scoped>\n",
       "    .dataframe tbody tr th:only-of-type {\n",
       "        vertical-align: middle;\n",
       "    }\n",
       "\n",
       "    .dataframe tbody tr th {\n",
       "        vertical-align: top;\n",
       "    }\n",
       "\n",
       "    .dataframe thead th {\n",
       "        text-align: right;\n",
       "    }\n",
       "</style>\n",
       "<table border=\"1\" class=\"dataframe\">\n",
       "<caption style=\"text-align: center;\">Nominal Variable Information for credit_data</caption>\n",
       "  <thead>\n",
       "    <tr style=\"text-align: right;\">\n",
       "      <th>Variable</th>\n",
       "      <th>N</th>\n",
       "      <th>NMiss</th>\n",
       "      <th>NLevels</th>\n",
       "    </tr>\n",
       "  </thead>\n",
       "  <tbody>\n",
       "    <tr>\n",
       "      <td>Default</td>\n",
       "      <td>9578.0</td>\n",
       "      <td>0.0</td>\n",
       "      <td>2.0</td>\n",
       "    </tr>\n",
       "    <tr>\n",
       "      <td>Purpose</td>\n",
       "      <td>9578.0</td>\n",
       "      <td>0.0</td>\n",
       "      <td>7.0</td>\n",
       "    </tr>\n",
       "  </tbody>\n",
       "</table>\n",
       "</div>\n",
       "</div>\n",
       "<div><hr /><b>&#167; BinDetails</b></div>\n",
       "<div class=\"cas-results=body\">\n",
       "<div>\n",
       "<style scoped>\n",
       "    .dataframe tbody tr th:only-of-type {\n",
       "        vertical-align: middle;\n",
       "    }\n",
       "\n",
       "    .dataframe tbody tr th {\n",
       "        vertical-align: top;\n",
       "    }\n",
       "\n",
       "    .dataframe thead th {\n",
       "        text-align: right;\n",
       "    }\n",
       "</style>\n",
       "<table border=\"1\" class=\"dataframe\">\n",
       "<caption style=\"text-align: center;\">Bin Details for credit_data</caption>\n",
       "  <thead>\n",
       "    <tr style=\"text-align: right;\">\n",
       "      <th>Variable</th>\n",
       "      <th>Transformation</th>\n",
       "      <th>BinId</th>\n",
       "      <th>BinLowerBnd</th>\n",
       "      <th>BinUpperBnd</th>\n",
       "      <th>BinWidth</th>\n",
       "      <th>NLevelsInBin</th>\n",
       "      <th>NInBin</th>\n",
       "      <th>Mean</th>\n",
       "      <th>Std</th>\n",
       "      <th>Min</th>\n",
       "      <th>Max</th>\n",
       "      <th>NEvents</th>\n",
       "      <th>NNonEvents</th>\n",
       "      <th>WOE</th>\n",
       "      <th>IV</th>\n",
       "    </tr>\n",
       "  </thead>\n",
       "  <tbody>\n",
       "    <tr>\n",
       "      <td>CreditLineAge</td>\n",
       "      <td>woe</td>\n",
       "      <td>1</td>\n",
       "      <td>178.958333</td>\n",
       "      <td>1401.228333</td>\n",
       "      <td>1222.27</td>\n",
       "      <td>NaN</td>\n",
       "      <td>523</td>\n",
       "      <td>958.270794</td>\n",
       "      <td>332.715961</td>\n",
       "      <td>178.958333</td>\n",
       "      <td>1394.000000</td>\n",
       "      <td>113.0</td>\n",
       "      <td>410.0</td>\n",
       "      <td>-0.369055</td>\n",
       "      <td>0.016791</td>\n",
       "    </tr>\n",
       "    <tr>\n",
       "      <td>CreditLineAge</td>\n",
       "      <td>woe</td>\n",
       "      <td>2</td>\n",
       "      <td>1401.228333</td>\n",
       "      <td>2274.278333</td>\n",
       "      <td>873.05</td>\n",
       "      <td>NaN</td>\n",
       "      <td>1058</td>\n",
       "      <td>1852.457270</td>\n",
       "      <td>250.293049</td>\n",
       "      <td>1407.000000</td>\n",
       "      <td>2267.000000</td>\n",
       "      <td>181.0</td>\n",
       "      <td>877.0</td>\n",
       "      <td>-0.079814</td>\n",
       "      <td>0.001446</td>\n",
       "    </tr>\n",
       "    <tr>\n",
       "      <td>CreditLineAge</td>\n",
       "      <td>woe</td>\n",
       "      <td>3</td>\n",
       "      <td>2274.278333</td>\n",
       "      <td>3147.328333</td>\n",
       "      <td>873.05</td>\n",
       "      <td>NaN</td>\n",
       "      <td>1300</td>\n",
       "      <td>2705.457532</td>\n",
       "      <td>252.905061</td>\n",
       "      <td>2279.041667</td>\n",
       "      <td>3140.041667</td>\n",
       "      <td>175.0</td>\n",
       "      <td>1125.0</td>\n",
       "      <td>0.202928</td>\n",
       "      <td>0.010424</td>\n",
       "    </tr>\n",
       "    <tr>\n",
       "      <td>CreditLineAge</td>\n",
       "      <td>woe</td>\n",
       "      <td>4</td>\n",
       "      <td>3147.328333</td>\n",
       "      <td>4369.598333</td>\n",
       "      <td>1222.27</td>\n",
       "      <td>NaN</td>\n",
       "      <td>2292</td>\n",
       "      <td>3735.582679</td>\n",
       "      <td>349.135667</td>\n",
       "      <td>3148.958333</td>\n",
       "      <td>4358.000000</td>\n",
       "      <td>401.0</td>\n",
       "      <td>1891.0</td>\n",
       "      <td>-0.106925</td>\n",
       "      <td>0.005673</td>\n",
       "    </tr>\n",
       "    <tr>\n",
       "      <td>CreditLineAge</td>\n",
       "      <td>woe</td>\n",
       "      <td>5</td>\n",
       "      <td>4369.598333</td>\n",
       "      <td>6115.698332</td>\n",
       "      <td>1746.10</td>\n",
       "      <td>NaN</td>\n",
       "      <td>2364</td>\n",
       "      <td>5144.797818</td>\n",
       "      <td>489.679173</td>\n",
       "      <td>4370.000000</td>\n",
       "      <td>6095.041667</td>\n",
       "      <td>352.0</td>\n",
       "      <td>2012.0</td>\n",
       "      <td>0.085429</td>\n",
       "      <td>0.003499</td>\n",
       "    </tr>\n",
       "    <tr>\n",
       "      <td>...</td>\n",
       "      <td>...</td>\n",
       "      <td>...</td>\n",
       "      <td>...</td>\n",
       "      <td>...</td>\n",
       "      <td>...</td>\n",
       "      <td>...</td>\n",
       "      <td>...</td>\n",
       "      <td>...</td>\n",
       "      <td>...</td>\n",
       "      <td>...</td>\n",
       "      <td>...</td>\n",
       "      <td>...</td>\n",
       "      <td>...</td>\n",
       "      <td>...</td>\n",
       "      <td>...</td>\n",
       "    </tr>\n",
       "    <tr>\n",
       "      <td>Purpose</td>\n",
       "      <td>woe</td>\n",
       "      <td>1</td>\n",
       "      <td>NaN</td>\n",
       "      <td>NaN</td>\n",
       "      <td>NaN</td>\n",
       "      <td>1.0</td>\n",
       "      <td>619</td>\n",
       "      <td>NaN</td>\n",
       "      <td>NaN</td>\n",
       "      <td>NaN</td>\n",
       "      <td>NaN</td>\n",
       "      <td>172.0</td>\n",
       "      <td>447.0</td>\n",
       "      <td>-0.702760</td>\n",
       "      <td>0.079603</td>\n",
       "    </tr>\n",
       "    <tr>\n",
       "      <td>Purpose</td>\n",
       "      <td>woe</td>\n",
       "      <td>2</td>\n",
       "      <td>NaN</td>\n",
       "      <td>NaN</td>\n",
       "      <td>NaN</td>\n",
       "      <td>2.0</td>\n",
       "      <td>972</td>\n",
       "      <td>NaN</td>\n",
       "      <td>NaN</td>\n",
       "      <td>NaN</td>\n",
       "      <td>NaN</td>\n",
       "      <td>176.0</td>\n",
       "      <td>796.0</td>\n",
       "      <td>-0.148709</td>\n",
       "      <td>0.004718</td>\n",
       "    </tr>\n",
       "    <tr>\n",
       "      <td>Purpose</td>\n",
       "      <td>woe</td>\n",
       "      <td>3</td>\n",
       "      <td>NaN</td>\n",
       "      <td>NaN</td>\n",
       "      <td>NaN</td>\n",
       "      <td>1.0</td>\n",
       "      <td>2331</td>\n",
       "      <td>NaN</td>\n",
       "      <td>NaN</td>\n",
       "      <td>NaN</td>\n",
       "      <td>NaN</td>\n",
       "      <td>387.0</td>\n",
       "      <td>1944.0</td>\n",
       "      <td>-0.043746</td>\n",
       "      <td>0.000945</td>\n",
       "    </tr>\n",
       "    <tr>\n",
       "      <td>Purpose</td>\n",
       "      <td>woe</td>\n",
       "      <td>4</td>\n",
       "      <td>NaN</td>\n",
       "      <td>NaN</td>\n",
       "      <td>NaN</td>\n",
       "      <td>1.0</td>\n",
       "      <td>3957</td>\n",
       "      <td>NaN</td>\n",
       "      <td>NaN</td>\n",
       "      <td>NaN</td>\n",
       "      <td>NaN</td>\n",
       "      <td>603.0</td>\n",
       "      <td>3354.0</td>\n",
       "      <td>0.058168</td>\n",
       "      <td>0.002741</td>\n",
       "    </tr>\n",
       "    <tr>\n",
       "      <td>Purpose</td>\n",
       "      <td>woe</td>\n",
       "      <td>5</td>\n",
       "      <td>NaN</td>\n",
       "      <td>NaN</td>\n",
       "      <td>NaN</td>\n",
       "      <td>2.0</td>\n",
       "      <td>1699</td>\n",
       "      <td>NaN</td>\n",
       "      <td>NaN</td>\n",
       "      <td>NaN</td>\n",
       "      <td>NaN</td>\n",
       "      <td>195.0</td>\n",
       "      <td>1504.0</td>\n",
       "      <td>0.385060</td>\n",
       "      <td>0.046012</td>\n",
       "    </tr>\n",
       "  </tbody>\n",
       "</table>\n",
       "<p>69 rows × 16 columns</p>\n",
       "</div>\n",
       "</div>"
      ],
      "text/plain": [
       "[TransInfo]\n",
       "\n",
       "                                Transformation Requests for credit_data                                \n",
       " \n",
       "          Name  NTransVars  NEvalVars DisctMethod CatTransMethod             WoeDef  WoeAdjust  IVFactor\n",
       " req_intervals          12          1         WOE           None Non-event by event        0.5       2.0\n",
       "  req_nominals           1          1        None            WOE Non-event by event        0.5       2.0\n",
       "\n",
       "[VarTransInfo]\n",
       "\n",
       "                              Variable Transformation Information for credit_data                              \n",
       " \n",
       "          Variable Transformation EvalVar             ResultVar    N  NMiss  NBins       IV    WOESum  GiniIndex\n",
       "     CreditLineAge            woe Default     woe_CreditLineAge 9578      0    7.0 0.051601 -0.052178   0.086313\n",
       "      CreditPolicy            woe Default      woe_CreditPolicy 9578      0    2.0 0.318636 -0.472826   0.170870\n",
       "      DebtIncRatio            woe Default      woe_DebtIncRatio 9578      0    7.0 0.034520  0.356557   0.072324\n",
       " Delinquencies2Yrs            woe Default woe_Delinquencies2Yrs 9578      0    2.0 0.003173 -0.092431   0.013000\n",
       "         FICOScore            woe Default         woe_FICOScore 9578      0    7.0 0.396194  1.266230   0.230320\n",
       "   Inquiries6Mnths            woe Default   woe_Inquiries6Mnths 9578      0    5.0 0.314849 -0.737692   0.201602\n",
       "       Installment            woe Default       woe_Installment 9578      0    7.0 0.084850 -0.385068   0.107556\n",
       "      InterestRate            woe Default      woe_InterestRate 9578      0    7.0 0.495550  0.856365   0.242861\n",
       "      LogAnnualInc            woe Default      woe_LogAnnualInc 9578      0    7.0 0.055499 -0.284088   0.088878\n",
       "      PublicRecord            woe Default      woe_PublicRecord 9578      0    2.0 0.043947 -0.501862   0.037689\n",
       "        RevBalance            woe Default        woe_RevBalance 9578      0    4.0 0.032329 -0.245450   0.045192\n",
       "    RevUtilization            woe Default    woe_RevUtilization 9578      0    7.0 0.151540  0.474550   0.148548\n",
       "           Purpose            woe Default           woe_Purpose 9578      0    5.0 0.134019 -0.451988   0.124382\n",
       "\n",
       "[NomVarInfo]\n",
       "\n",
       "Nominal Variable Information for credit_data\n",
       " \n",
       " Variable      N  NMiss  NLevels\n",
       "  Default 9578.0    0.0      2.0\n",
       "  Purpose 9578.0    0.0      7.0\n",
       "\n",
       "[BinDetails]\n",
       "\n",
       "                                                                                  Bin Details for credit_data                                                                                   \n",
       " \n",
       "          Variable Transformation  BinId  BinLowerBnd  BinUpperBnd     BinWidth  NLevelsInBin  NInBin         Mean          Std          Min          Max  NEvents  NNonEvents       WOE       IV\n",
       "     CreditLineAge            woe      1   178.958333 1.401228e+03 1.222270e+03           NaN     523   958.270794   332.715961   178.958333 1.394000e+03    113.0       410.0 -0.369055 0.016791\n",
       "     CreditLineAge            woe      2  1401.228333 2.274278e+03 8.730500e+02           NaN    1058  1852.457270   250.293049  1407.000000 2.267000e+03    181.0       877.0 -0.079814 0.001446\n",
       "     CreditLineAge            woe      3  2274.278333 3.147328e+03 8.730500e+02           NaN    1300  2705.457532   252.905061  2279.041667 3.140042e+03    175.0      1125.0  0.202928 0.010424\n",
       "     CreditLineAge            woe      4  3147.328333 4.369598e+03 1.222270e+03           NaN    2292  3735.582679   349.135667  3148.958333 4.358000e+03    401.0      1891.0 -0.106925 0.005673\n",
       "     CreditLineAge            woe      5  4369.598333 6.115698e+03 1.746100e+03           NaN    2364  5144.797818   489.679173  4370.000000 6.095042e+03    352.0      2012.0  0.085429 0.003499\n",
       "     CreditLineAge            woe      6  6115.698332 8.211018e+03 2.095320e+03           NaN    1242  7039.430019   586.937323  6119.000000 8.192042e+03    211.0      1031.0 -0.071398 0.001354\n",
       "     CreditLineAge            woe      7  8211.018332 1.763996e+04 9.428940e+03           NaN     799 10309.922872  1872.976148  8219.958333 1.763996e+04    100.0       699.0  0.286656 0.012415\n",
       "      CreditPolicy            woe      1     0.000000 1.000000e-02 1.000000e-02           NaN    1868     0.000000     0.000000     0.000000 0.000000e+00    519.0      1349.0 -0.702609 0.240110\n",
       "      CreditPolicy            woe      2     0.010000 1.000000e+00 9.900000e-01           NaN    7710     1.000000     0.000000     1.000000 1.000000e+00   1014.0      6696.0  0.229783 0.078526\n",
       "      DebtIncRatio            woe      1     0.000000 2.696400e+00 2.696400e+00           NaN     871     1.178209     0.835997     0.000000 2.690000e+00    116.0       755.0  0.215303 0.007828\n",
       "      DebtIncRatio            woe      2     2.696400 9.287600e+00 6.591200e+00           NaN    2398     6.233520     1.913452     2.700000 9.280000e+00    372.0      2026.0  0.037101 0.000681\n",
       "      DebtIncRatio            woe      3     9.287600 1.078560e+01 1.498000e+00           NaN     689    10.027213     0.428245     9.290000 1.078000e+01     94.0       595.0  0.187442 0.004739\n",
       "      DebtIncRatio            woe      4    10.785600 1.408120e+01 3.295600e+00           NaN    1491    12.460812     0.970700    10.790000 1.408000e+01    246.0      1245.0 -0.036265 0.000415\n",
       "      DebtIncRatio            woe      5    14.081200 1.557920e+01 1.498000e+00           NaN     714    14.843852     0.424023    14.090000 1.557000e+01     98.0       616.0  0.180455 0.004563\n",
       "      DebtIncRatio            woe      6    15.579200 1.917440e+01 3.595200e+00           NaN    1480    17.314635     1.028576    15.580000 1.917000e+01    244.0      1236.0 -0.035357 0.000391\n",
       "      DebtIncRatio            woe      7    19.174400 2.996000e+01 1.078560e+01           NaN    1935    22.253530     2.158211    19.180000 2.996000e+01    363.0      1572.0 -0.192123 0.015904\n",
       " Delinquencies2Yrs            woe      1     0.000000 1.300000e-01 1.300000e-01           NaN    8458     0.000000     0.000000     0.000000 0.000000e+00   1337.0      7121.0  0.014796 0.000385\n",
       " Delinquencies2Yrs            woe      2     0.130000 1.300000e+01 1.287000e+01           NaN    1120     1.400000     0.906140     1.000000 1.300000e+01    196.0       924.0 -0.107227 0.002788\n",
       "         FICOScore            woe      1   612.000000 6.571500e+02 4.515000e+01           NaN     489   649.269939     6.809824   612.000000 6.570000e+02    151.0       338.0 -0.852058 0.096259\n",
       "         FICOScore            woe      2   657.150000 6.722000e+02 1.505000e+01           NaN    1247   666.923817     4.028168   662.000000 6.720000e+02    277.0       970.0 -0.404546 0.048642\n",
       "         FICOScore            woe      3   672.200000 7.087500e+02 3.655000e+01           NaN    3401   691.780947     9.734895   677.000000 7.070000e+02    606.0      2795.0 -0.129117 0.012365\n",
       "         FICOScore            woe      4   708.750000 7.388500e+02 3.010000e+01           NaN    2211   723.687019     8.408610   712.000000 7.370000e+02    318.0      1893.0  0.126043 0.007024\n",
       "         FICOScore            woe      5   738.850000 7.582000e+02 1.935000e+01           NaN    1049   748.887512     5.688539   742.000000 7.570000e+02    103.0       946.0  0.559689 0.056417\n",
       "         FICOScore            woe      6   758.200000 7.732500e+02 1.505000e+01           NaN     520   766.403846     4.225164   762.000000 7.720000e+02     40.0       480.0  0.827082 0.055533\n",
       "         FICOScore            woe      7   773.250000 8.270000e+02 5.375000e+01           NaN     661   790.328290    11.266588   777.000000 8.270000e+02     38.0       623.0  1.139136 0.119954\n",
       "   Inquiries6Mnths            woe      1     0.000000 3.300000e-01 3.300000e-01           NaN    3637     0.000000     0.000000     0.000000 0.000000e+00    427.0      3210.0  0.359418 0.086596\n",
       "   Inquiries6Mnths            woe      2     0.330000 1.320000e+00 9.900000e-01           NaN    2462     1.000000     0.000000     1.000000 1.000000e+00    372.0      2090.0  0.068201 0.002336\n",
       "   Inquiries6Mnths            woe      3     1.320000 2.310000e+00 9.900000e-01           NaN    1384     2.000000     0.000000     2.000000 2.000000e+00    198.0      1186.0  0.132250 0.004830\n",
       "   Inquiries6Mnths            woe      4     2.310000 4.290000e+00 1.980000e+00           NaN    1339     3.354742     0.478614     3.000000 4.000000e+00    292.0      1047.0 -0.380894 0.045961\n",
       "   Inquiries6Mnths            woe      5     4.290000 3.300000e+01 2.871000e+01           NaN     756     7.125661     3.342890     5.000000 3.300000e+01    244.0       512.0 -0.916668 0.175126\n",
       "       Installment            woe      1    15.670000 8.962760e+01 7.395760e+01           NaN     858    59.814522    18.777490    15.670000 8.956000e+01    139.0       719.0 -0.014437 0.000038\n",
       "       Installment            woe      2    89.627600 1.635852e+02 7.395760e+01           NaN    1525   127.902026    22.983141    89.800000 1.635700e+02    200.0      1325.0  0.233026 0.015956\n",
       "       Installment            woe      3   163.585200 1.820746e+02 1.848940e+01           NaN     571   170.488406     4.656726   163.640000 1.820600e+02    110.0       461.0 -0.224907 0.006501\n",
       "       Installment            woe      4   182.074600 2.375428e+02 5.546820e+01           NaN    1180   207.317881    16.031110   182.230000 2.374700e+02    149.0      1031.0  0.276514 0.017121\n",
       "       Installment            woe      5   237.542800 3.022557e+02 6.471290e+01           NaN    1154   266.828362    17.633688   237.580000 3.021000e+02    209.0       945.0 -0.148974 0.005622\n",
       "       Installment            woe      6   302.255700 7.090225e+02 4.067668e+02           NaN    3711   454.491172   117.667672   302.330000 7.074100e+02    585.0      3126.0  0.018073 0.000252\n",
       "       Installment            woe      7   709.022500 9.401400e+02 2.311175e+02           NaN     579   817.523834    54.155029   709.180000 9.401400e+02    141.0       438.0 -0.524365 0.039362\n",
       "      InterestRate            woe      1     0.060000 8.189600e-02 2.189600e-02           NaN     820     0.076694     0.003429     0.060000 8.070000e-02     34.0       786.0  1.482772 0.223963\n",
       "      InterestRate            woe      2     0.081896 9.440800e-02 1.251200e-02           NaN     903     0.089062     0.003168     0.083200 9.380000e-02     67.0       836.0  0.866112 0.104298\n",
       "      InterestRate            woe      3     0.094408 1.225600e-01 2.815200e-02           NaN    3095     0.111434     0.008286     0.094500 1.222000e-01    453.0      2642.0  0.105575 0.006948\n",
       "      InterestRate            woe      4     0.122560 1.397640e-01 1.720400e-02           NaN    2345     0.131325     0.004753     0.122900 1.393000e-01    417.0      1928.0 -0.126672 0.008199\n",
       "      InterestRate            woe      5     0.139764 1.460200e-01 6.256000e-03           NaN     583     0.142823     0.001477     0.139900 1.459000e-01    133.0       450.0 -0.438926 0.027058\n",
       "      InterestRate            woe      6     0.146020 1.600960e-01 1.407600e-02           NaN    1136     0.152469     0.004403     0.146100 1.600000e-01    228.0       908.0 -0.275925 0.019791\n",
       "      InterestRate            woe      7     0.160096 2.164000e-01 5.630400e-02           NaN     696     0.175314     0.012071     0.160100 2.164000e-01    201.0       495.0 -0.756571 0.105294\n",
       "      LogAnnualInc            woe      1     7.547502 1.020023e+01 2.652724e+00           NaN     947     9.833737     0.367033     7.547502 1.019914e+01    200.0       747.0 -0.340076 0.025581\n",
       "      LogAnnualInc            woe      2    10.200226 1.054927e+01 3.490426e-01           NaN    1416    10.395118     0.098879    10.203592 1.054842e+01    241.0      1175.0 -0.073598 0.001642\n",
       "      LogAnnualInc            woe      3    10.549268 1.075869e+01 2.094256e-01           NaN    1244    10.656401     0.058414    10.549753 1.075799e+01    191.0      1053.0  0.049301 0.000621\n",
       "      LogAnnualInc            woe      4    10.758694 1.089831e+01 1.396171e-01           NaN     946    10.827985     0.036272    10.759009 1.089822e+01    153.0       793.0 -0.012439 0.000031\n",
       "      LogAnnualInc            woe      5    10.898311 1.145678e+01 5.584682e-01           NaN    3316    11.152287     0.153902    10.898516 1.145636e+01    490.0      2826.0  0.094388 0.005973\n",
       "      LogAnnualInc            woe      6    11.456779 1.187563e+01 4.188512e-01           NaN    1160    11.618545     0.114358    11.459242 1.187409e+01    150.0      1010.0  0.249246 0.013806\n",
       "      LogAnnualInc            woe      7    11.875630 1.452835e+01 2.652724e+00           NaN     549    12.235788     0.390575    11.877569 1.452835e+01    108.0       441.0 -0.250911 0.007845\n",
       "      PublicRecord            woe      1     0.000000 5.000000e-02 5.000000e-02           NaN    9019     0.000000     0.000000     0.000000 0.000000e+00   1395.0      7624.0  0.040583 0.003059\n",
       "      PublicRecord            woe      2     0.050000 5.000000e+00 4.950000e+00           NaN     559     1.064401     0.332476     1.000000 5.000000e+00    138.0       421.0 -0.542445 0.040888\n",
       "        RevBalance            woe      1     0.000000 1.207359e+04 1.207359e+04           NaN    5868  4692.845433  3523.132198     0.000000 1.206700e+04    908.0      4960.0  0.040092 0.001943\n",
       "        RevBalance            woe      2 12073.590000 2.414718e+04 1.207359e+04           NaN    2026 17038.568115  3390.534330 12074.000000 2.414600e+04    306.0      1720.0  0.068670 0.001949\n",
       "        RevBalance            woe      3 24147.180000 3.622077e+04 1.207359e+04           NaN     768 29235.338542  3446.802122 24151.000000 3.619200e+04    122.0       646.0  0.008954 0.000013\n",
       "        RevBalance            woe      4 36220.770000 1.207359e+06 1.171138e+06           NaN     916 84597.652838 78359.347451 36261.000000 1.207359e+06    197.0       719.0 -0.363167 0.028424\n",
       "    RevUtilization            woe      1     0.000000 3.570000e+00 3.570000e+00           NaN     707     0.890156     1.107175     0.000000 3.500000e+00    110.0       597.0  0.033613 0.000165\n",
       "    RevUtilization            woe      2     3.570000 9.520000e+00 5.950000e+00           NaN     578     6.681263     1.724176     3.600000 9.500000e+00     51.0       527.0  0.677551 0.043686\n",
       "    RevUtilization            woe      3     9.520000 2.737000e+01 1.785000e+01           NaN    1586    18.769937     5.190232     9.600000 2.730000e+01    183.0      1403.0  0.379058 0.041712\n",
       "    RevUtilization            woe      4    27.370000 5.117000e+01 2.380000e+01           NaN    2416    39.411225     6.817820    27.400000 5.110000e+01    368.0      2048.0  0.058712 0.001705\n",
       "    RevUtilization            woe      5    51.170000 5.950000e+01 8.330000e+00           NaN     847    55.283577     2.346751    51.200000 5.940000e+01    168.0       679.0 -0.261167 0.013157\n",
       "    RevUtilization            woe      6    59.500000 7.973000e+01 2.023000e+01           NaN    1820    69.368319     5.821064    59.500000 7.970000e+01    304.0      1516.0 -0.051021 0.001007\n",
       "    RevUtilization            woe      7    79.730000 1.190000e+02 3.927000e+01           NaN    1624    89.710468     6.169106    79.800000 1.190000e+02    349.0      1275.0 -0.362195 0.050109\n",
       "           Purpose            woe      1          NaN          NaN          NaN           1.0     619          NaN          NaN          NaN          NaN    172.0       447.0 -0.702760 0.079603\n",
       "           Purpose            woe      2          NaN          NaN          NaN           2.0     972          NaN          NaN          NaN          NaN    176.0       796.0 -0.148709 0.004718\n",
       "           Purpose            woe      3          NaN          NaN          NaN           1.0    2331          NaN          NaN          NaN          NaN    387.0      1944.0 -0.043746 0.000945\n",
       "           Purpose            woe      4          NaN          NaN          NaN           1.0    3957          NaN          NaN          NaN          NaN    603.0      3354.0  0.058168 0.002741\n",
       "           Purpose            woe      5          NaN          NaN          NaN           2.0    1699          NaN          NaN          NaN          NaN    195.0      1504.0  0.385060 0.046012\n",
       "\n"
      ]
     },
     "execution_count": 9,
     "metadata": {},
     "output_type": "execute_result"
    }
   ],
   "source": [
    "woe_transform = woe_binning(credit_data, nominal_inputs, cont_inputs, target)\n",
    "woe_transform"
   ]
  },
  {
   "cell_type": "code",
   "execution_count": 10,
   "id": "8b34ded9",
   "metadata": {},
   "outputs": [
    {
     "data": {
      "text/html": [
       "<div><b>&#167; Fetch</b></div>\n",
       "<div class=\"cas-results=body\">\n",
       "<div>\n",
       "<style scoped>\n",
       "    .dataframe tbody tr th:only-of-type {\n",
       "        vertical-align: middle;\n",
       "    }\n",
       "\n",
       "    .dataframe tbody tr th {\n",
       "        vertical-align: top;\n",
       "    }\n",
       "\n",
       "    .dataframe thead th {\n",
       "        text-align: right;\n",
       "    }\n",
       "</style>\n",
       "<table border=\"1\" class=\"dataframe\">\n",
       "<caption style=\"text-align: center;\">Selected Rows from Table WOE_TRANSFORM</caption>\n",
       "  <thead>\n",
       "    <tr style=\"text-align: right;\">\n",
       "      <th>_Index_</th>\n",
       "      <th>Default</th>\n",
       "      <th>woe_CreditLineAge</th>\n",
       "      <th>woe_CreditPolicy</th>\n",
       "      <th>woe_DebtIncRatio</th>\n",
       "      <th>woe_Delinquencies2Yrs</th>\n",
       "      <th>woe_FICOScore</th>\n",
       "      <th>woe_Inquiries6Mnths</th>\n",
       "      <th>woe_Installment</th>\n",
       "      <th>woe_InterestRate</th>\n",
       "      <th>woe_LogAnnualInc</th>\n",
       "      <th>woe_PublicRecord</th>\n",
       "      <th>woe_RevBalance</th>\n",
       "      <th>woe_RevUtilization</th>\n",
       "      <th>woe_Purpose</th>\n",
       "    </tr>\n",
       "  </thead>\n",
       "  <tbody>\n",
       "    <tr>\n",
       "      <td>1</td>\n",
       "      <td>0.0</td>\n",
       "      <td>0.085429</td>\n",
       "      <td>0.229783</td>\n",
       "      <td>-0.192123</td>\n",
       "      <td>0.014796</td>\n",
       "      <td>0.126043</td>\n",
       "      <td>0.359418</td>\n",
       "      <td>-0.524365</td>\n",
       "      <td>0.105575</td>\n",
       "      <td>0.094388</td>\n",
       "      <td>0.040583</td>\n",
       "      <td>0.008954</td>\n",
       "      <td>-0.261167</td>\n",
       "      <td>0.058168</td>\n",
       "    </tr>\n",
       "    <tr>\n",
       "      <td>2</td>\n",
       "      <td>0.0</td>\n",
       "      <td>-0.106925</td>\n",
       "      <td>0.229783</td>\n",
       "      <td>0.180455</td>\n",
       "      <td>-0.107227</td>\n",
       "      <td>-0.404546</td>\n",
       "      <td>0.359418</td>\n",
       "      <td>0.233026</td>\n",
       "      <td>-0.438926</td>\n",
       "      <td>0.094388</td>\n",
       "      <td>0.040583</td>\n",
       "      <td>0.040092</td>\n",
       "      <td>0.058712</td>\n",
       "      <td>0.385060</td>\n",
       "    </tr>\n",
       "    <tr>\n",
       "      <td>3</td>\n",
       "      <td>0.0</td>\n",
       "      <td>-0.106925</td>\n",
       "      <td>0.229783</td>\n",
       "      <td>-0.035357</td>\n",
       "      <td>0.014796</td>\n",
       "      <td>-0.129117</td>\n",
       "      <td>0.068201</td>\n",
       "      <td>-0.014437</td>\n",
       "      <td>0.105575</td>\n",
       "      <td>0.094388</td>\n",
       "      <td>0.040583</td>\n",
       "      <td>-0.363167</td>\n",
       "      <td>0.058712</td>\n",
       "      <td>-0.148709</td>\n",
       "    </tr>\n",
       "    <tr>\n",
       "      <td>4</td>\n",
       "      <td>0.0</td>\n",
       "      <td>-0.071398</td>\n",
       "      <td>0.229783</td>\n",
       "      <td>0.180455</td>\n",
       "      <td>0.014796</td>\n",
       "      <td>0.827082</td>\n",
       "      <td>0.359418</td>\n",
       "      <td>0.018073</td>\n",
       "      <td>0.866112</td>\n",
       "      <td>0.094388</td>\n",
       "      <td>0.040583</td>\n",
       "      <td>0.040092</td>\n",
       "      <td>0.379058</td>\n",
       "      <td>0.058168</td>\n",
       "    </tr>\n",
       "    <tr>\n",
       "      <td>5</td>\n",
       "      <td>0.0</td>\n",
       "      <td>-0.106925</td>\n",
       "      <td>0.229783</td>\n",
       "      <td>0.215303</td>\n",
       "      <td>0.014796</td>\n",
       "      <td>-0.404546</td>\n",
       "      <td>0.359418</td>\n",
       "      <td>-0.014437</td>\n",
       "      <td>-0.126672</td>\n",
       "      <td>-0.073598</td>\n",
       "      <td>0.040583</td>\n",
       "      <td>0.040092</td>\n",
       "      <td>-0.362195</td>\n",
       "      <td>-0.043746</td>\n",
       "    </tr>\n",
       "  </tbody>\n",
       "</table>\n",
       "</div>\n",
       "</div>"
      ],
      "text/plain": [
       "[Fetch]\n",
       "\n",
       "                                                                                                          Selected Rows from Table WOE_TRANSFORM                                                                                                           \n",
       " \n",
       "  _Index_  Default  woe_CreditLineAge  woe_CreditPolicy  woe_DebtIncRatio  woe_Delinquencies2Yrs  woe_FICOScore  woe_Inquiries6Mnths  woe_Installment  woe_InterestRate  woe_LogAnnualInc  woe_PublicRecord  woe_RevBalance  woe_RevUtilization  woe_Purpose\n",
       "        1      0.0           0.085429          0.229783         -0.192123               0.014796       0.126043             0.359418        -0.524365          0.105575          0.094388          0.040583        0.008954           -0.261167     0.058168\n",
       "        2      0.0          -0.106925          0.229783          0.180455              -0.107227      -0.404546             0.359418         0.233026         -0.438926          0.094388          0.040583        0.040092            0.058712     0.385060\n",
       "        3      0.0          -0.106925          0.229783         -0.035357               0.014796      -0.129117             0.068201        -0.014437          0.105575          0.094388          0.040583       -0.363167            0.058712    -0.148709\n",
       "        4      0.0          -0.071398          0.229783          0.180455               0.014796       0.827082             0.359418         0.018073          0.866112          0.094388          0.040583        0.040092            0.379058     0.058168\n",
       "        5      0.0          -0.106925          0.229783          0.215303               0.014796      -0.404546             0.359418        -0.014437         -0.126672         -0.073598          0.040583        0.040092           -0.362195    -0.043746\n",
       "\n"
      ]
     },
     "execution_count": 10,
     "metadata": {},
     "output_type": "execute_result"
    }
   ],
   "source": [
    "fetch(\"woe_transform\", 5, 5)"
   ]
  },
  {
   "cell_type": "code",
   "execution_count": 11,
   "id": "cd2ca377",
   "metadata": {},
   "outputs": [],
   "source": [
    "var_info_df = pd.DataFrame(woe_transform.VarTransInfo)\n",
    "var_info_df.sort_values(by=['IV'], ascending=True, inplace=True)"
   ]
  },
  {
   "cell_type": "code",
   "execution_count": 12,
   "id": "b31aa261",
   "metadata": {},
   "outputs": [
    {
     "data": {
      "image/png": "[encoded data removed]",
      "text/plain": [
       "<Figure size 1600x800 with 1 Axes>"
      ]
     },
     "metadata": {},
     "output_type": "display_data"
    }
   ],
   "source": [
    "# Plot IV\n",
    "plt.figure(figsize=(16,8))\n",
    "plt.barh(var_info_df['Variable'], var_info_df['IV'], color = '#317DC2')\n",
    "plt.xlabel('Information Value')\n",
    "plt.title('Information Value by Features', fontweight=\"bold\");"
   ]
  },
  {
   "cell_type": "code",
   "execution_count": 13,
   "id": "92c0e6a6",
   "metadata": {},
   "outputs": [],
   "source": [
    "woe_transform_credit_data = pd.DataFrame(fetch(\"woe_transform\", len(credit_data), len(credit_data)).Fetch)"
   ]
  },
  {
   "cell_type": "code",
   "execution_count": 14,
   "id": "60e26bcd",
   "metadata": {},
   "outputs": [
    {
     "data": {
      "text/plain": [
       "Index(['_Index_', 'Default', 'woe_CreditLineAge', 'woe_CreditPolicy',\n",
       "       'woe_DebtIncRatio', 'woe_Delinquencies2Yrs', 'woe_FICOScore',\n",
       "       'woe_Inquiries6Mnths', 'woe_Installment', 'woe_InterestRate',\n",
       "       'woe_LogAnnualInc', 'woe_PublicRecord', 'woe_RevBalance',\n",
       "       'woe_RevUtilization', 'woe_Purpose'],\n",
       "      dtype='object')"
      ]
     },
     "execution_count": 14,
     "metadata": {},
     "output_type": "execute_result"
    }
   ],
   "source": [
    "woe_transform_credit_data.columns"
   ]
  },
  {
   "cell_type": "code",
   "execution_count": 15,
   "id": "27d6a70f",
   "metadata": {},
   "outputs": [],
   "source": [
    "# Convert Bin Details to Pandas DF for Plotting\n",
    "woe_bin_credit_data = pd.DataFrame(woe_transform.BinDetails)\n",
    "\n",
    "# Time on Job DF\n",
    "woe_bin_purpose = woe_bin_credit_data[woe_bin_credit_data['Variable']=='Purpose']\n",
    "woe_bin_credit_policy = woe_bin_credit_data[woe_bin_credit_data['Variable']=='CreditPolicy']\n",
    "# woe_bin_cash = woe_bin_credit_data[woe_bin_credit_data['Variable']=='CASH']\n",
    "# woe_bin_prof = woe_bin_credit_data[woe_bin_credit_data['Variable']=='PROF']"
   ]
  },
  {
   "cell_type": "code",
   "execution_count": 16,
   "id": "3c318e27",
   "metadata": {},
   "outputs": [
    {
     "data": {
      "text/plain": [
       "Text(0, 0.5, 'WOE Value')"
      ]
     },
     "execution_count": 16,
     "metadata": {},
     "output_type": "execute_result"
    },
    {
     "data": {
      "image/png": "[encoded data removed]",
      "text/plain": [
       "<Figure size 2000x700 with 2 Axes>"
      ]
     },
     "metadata": {},
     "output_type": "display_data"
    }
   ],
   "source": [
    "# Plot Examples -  WoE value is a measure of the \"strength” of a grouping for separating good and bad credit\n",
    "plt.figure(figsize=(20,7))\n",
    "plt.subplots_adjust(hspace=.4)\n",
    "\n",
    "plt.subplot(2, 2, 1)\n",
    "plt.bar(woe_bin_purpose['BinId'], woe_bin_purpose['WOE'], color = '#317DC2')\n",
    "plt.title('WOE: Purpose Group Wise Trend', fontweight=\"bold\")\n",
    "plt.xlabel('Purpose Bins')\n",
    "plt.ylabel('WOE Value')\n",
    "\n",
    "plt.subplot(2, 2, 2)\n",
    "plt.bar(woe_bin_credit_policy['BinId'], woe_bin_credit_policy['WOE'], color = '#317DC2')\n",
    "plt.title('WOE: Credit Policy Group Wise Trend', fontweight=\"bold\")\n",
    "plt.xlabel('Credit Policy Bins')\n",
    "plt.ylabel('WOE Value')\n",
    "\n",
    "# plt.subplot(2, 2, 3)\n",
    "# plt.bar(woe_bin_prof['BinId'], woe_bin_prof['WOE'], color = '#317DC2')\n",
    "# plt.title('WOE: Profession Group Wise Trend', fontweight=\"bold\")\n",
    "# plt.xlabel('Profession Bins')\n",
    "# plt.ylabel('WOE Value')\n",
    "\n",
    "# plt.subplot(2, 2, 4)\n",
    "# plt.bar(woe_bin_toj['BinId'], woe_bin_toj['WOE'], color = '#317DC2')\n",
    "# plt.title('WOE: Time at Job Group Wise Trend', fontweight=\"bold\")\n",
    "# plt.xlabel('Time at Job Bins')\n",
    "# plt.ylabel('WOE Value');"
   ]
  },
  {
   "cell_type": "code",
   "execution_count": 17,
   "id": "b1f8702c",
   "metadata": {},
   "outputs": [],
   "source": [
    "woe_input = woe_transform_credit_data.drop(['_Index_', 'Default'], axis=1)"
   ]
  },
  {
   "cell_type": "code",
   "execution_count": 18,
   "id": "648220ad",
   "metadata": {},
   "outputs": [],
   "source": [
    "## Split out holdout\n",
    "from sklearn.model_selection import train_test_split\n",
    "X_train, X_test, y_train, y_test = train_test_split(\n",
    "    woe_input, woe_transform_credit_data['Default'], test_size=0.1, random_state=0)"
   ]
  },
  {
   "cell_type": "code",
   "execution_count": 19,
   "id": "8d447044",
   "metadata": {},
   "outputs": [],
   "source": [
    "import sklearn.linear_model as scikitlg"
   ]
  },
  {
   "cell_type": "code",
   "execution_count": 20,
   "id": "ae95bd25",
   "metadata": {},
   "outputs": [
    {
     "data": {
      "text/html": [
       "<style>#sk-container-id-1 {color: black;}#sk-container-id-1 pre{padding: 0;}#sk-container-id-1 div.sk-toggleable {background-color: white;}#sk-container-id-1 label.sk-toggleable__label {cursor: pointer;display: block;width: 100%;margin-bottom: 0;padding: 0.3em;box-sizing: border-box;text-align: center;}#sk-container-id-1 label.sk-toggleable__label-arrow:before {content: \"▸\";float: left;margin-right: 0.25em;color: #696969;}#sk-container-id-1 label.sk-toggleable__label-arrow:hover:before {color: black;}#sk-container-id-1 div.sk-estimator:hover label.sk-toggleable__label-arrow:before {color: black;}#sk-container-id-1 div.sk-toggleable__content {max-height: 0;max-width: 0;overflow: hidden;text-align: left;background-color: #f0f8ff;}#sk-container-id-1 div.sk-toggleable__content pre {margin: 0.2em;color: black;border-radius: 0.25em;background-color: #f0f8ff;}#sk-container-id-1 input.sk-toggleable__control:checked~div.sk-toggleable__content {max-height: 200px;max-width: 100%;overflow: auto;}#sk-container-id-1 input.sk-toggleable__control:checked~label.sk-toggleable__label-arrow:before {content: \"▾\";}#sk-container-id-1 div.sk-estimator input.sk-toggleable__control:checked~label.sk-toggleable__label {background-color: #d4ebff;}#sk-container-id-1 div.sk-label input.sk-toggleable__control:checked~label.sk-toggleable__label {background-color: #d4ebff;}#sk-container-id-1 input.sk-hidden--visually {border: 0;clip: rect(1px 1px 1px 1px);clip: rect(1px, 1px, 1px, 1px);height: 1px;margin: -1px;overflow: hidden;padding: 0;position: absolute;width: 1px;}#sk-container-id-1 div.sk-estimator {font-family: monospace;background-color: #f0f8ff;border: 1px dotted black;border-radius: 0.25em;box-sizing: border-box;margin-bottom: 0.5em;}#sk-container-id-1 div.sk-estimator:hover {background-color: #d4ebff;}#sk-container-id-1 div.sk-parallel-item::after {content: \"\";width: 100%;border-bottom: 1px solid gray;flex-grow: 1;}#sk-container-id-1 div.sk-label:hover label.sk-toggleable__label {background-color: #d4ebff;}#sk-container-id-1 div.sk-serial::before {content: \"\";position: absolute;border-left: 1px solid gray;box-sizing: border-box;top: 0;bottom: 0;left: 50%;z-index: 0;}#sk-container-id-1 div.sk-serial {display: flex;flex-direction: column;align-items: center;background-color: white;padding-right: 0.2em;padding-left: 0.2em;position: relative;}#sk-container-id-1 div.sk-item {position: relative;z-index: 1;}#sk-container-id-1 div.sk-parallel {display: flex;align-items: stretch;justify-content: center;background-color: white;position: relative;}#sk-container-id-1 div.sk-item::before, #sk-container-id-1 div.sk-parallel-item::before {content: \"\";position: absolute;border-left: 1px solid gray;box-sizing: border-box;top: 0;bottom: 0;left: 50%;z-index: -1;}#sk-container-id-1 div.sk-parallel-item {display: flex;flex-direction: column;z-index: 1;position: relative;background-color: white;}#sk-container-id-1 div.sk-parallel-item:first-child::after {align-self: flex-end;width: 50%;}#sk-container-id-1 div.sk-parallel-item:last-child::after {align-self: flex-start;width: 50%;}#sk-container-id-1 div.sk-parallel-item:only-child::after {width: 0;}#sk-container-id-1 div.sk-dashed-wrapped {border: 1px dashed gray;margin: 0 0.4em 0.5em 0.4em;box-sizing: border-box;padding-bottom: 0.4em;background-color: white;}#sk-container-id-1 div.sk-label label {font-family: monospace;font-weight: bold;display: inline-block;line-height: 1.2em;}#sk-container-id-1 div.sk-label-container {text-align: center;}#sk-container-id-1 div.sk-container {/* jupyter's `normalize.less` sets `[hidden] { display: none; }` but bootstrap.min.css set `[hidden] { display: none !important; }` so we also need the `!important` here to be able to override the default hidden behavior on the sphinx rendered scikit-learn.org. See: https://github.com/scikit-learn/scikit-learn/issues/21755 */display: inline-block !important;position: relative;}#sk-container-id-1 div.sk-text-repr-fallback {display: none;}</style><div id=\"sk-container-id-1\" class=\"sk-top-container\"><div class=\"sk-text-repr-fallback\"><pre>LogisticRegression()</pre><b>In a Jupyter environment, please rerun this cell to show the HTML representation or trust the notebook. <br />On GitHub, the HTML representation is unable to render, please try loading this page with nbviewer.org.</b></div><div class=\"sk-container\" hidden><div class=\"sk-item\"><div class=\"sk-estimator sk-toggleable\"><input class=\"sk-toggleable__control sk-hidden--visually\" id=\"sk-estimator-id-1\" type=\"checkbox\" checked><label for=\"sk-estimator-id-1\" class=\"sk-toggleable__label sk-toggleable__label-arrow\">LogisticRegression</label><div class=\"sk-toggleable__content\"><pre>LogisticRegression()</pre></div></div></div></div></div>"
      ],
      "text/plain": [
       "LogisticRegression()"
      ]
     },
     "execution_count": 20,
     "metadata": {},
     "output_type": "execute_result"
    }
   ],
   "source": [
    "sklg = scikitlg.LogisticRegression()\n",
    "sklg.fit(X = X_train, y = y_train)"
   ]
  },
  {
   "cell_type": "code",
   "execution_count": 21,
   "id": "33565379",
   "metadata": {},
   "outputs": [],
   "source": [
    "from sklearn.metrics import roc_auc_score"
   ]
  },
  {
   "cell_type": "code",
   "execution_count": 22,
   "id": "7e96d1be",
   "metadata": {},
   "outputs": [],
   "source": [
    "def calculate_gini(y, x):\n",
    "    auc = roc_auc_score(y, x)\n",
    "    gini = 2 * auc - 1\n",
    "    return gini"
   ]
  },
  {
   "cell_type": "code",
   "execution_count": 23,
   "id": "514f190a",
   "metadata": {},
   "outputs": [
    {
     "name": "stdout",
     "output_type": "stream",
     "text": [
      "0.6935480053969075 0.38709601079381506\n"
     ]
    }
   ],
   "source": [
    "sklg_train_auc = roc_auc_score(y_train, sklg.predict_proba(X_train)[:,1])\n",
    "sklg_train_gini = 2 * sklg_train_auc - 1\n",
    "print(sklg_train_auc, sklg_train_gini)"
   ]
  },
  {
   "cell_type": "code",
   "execution_count": 24,
   "id": "8325a949",
   "metadata": {},
   "outputs": [
    {
     "name": "stdout",
     "output_type": "stream",
     "text": [
      "0.6704440812669549 0.34088816253390974\n"
     ]
    }
   ],
   "source": [
    "sklg_test_auc = roc_auc_score(y_test, sklg.predict_proba(X_test)[:,1])\n",
    "sklg_test_gini = 2 * sklg_test_auc - 1\n",
    "print(sklg_test_auc, sklg_test_gini)"
   ]
  },
  {
   "cell_type": "code",
   "execution_count": 25,
   "id": "4383df51",
   "metadata": {},
   "outputs": [],
   "source": [
    "from sasviya.ml.linear_model import LogisticRegression"
   ]
  },
  {
   "cell_type": "code",
   "execution_count": 26,
   "id": "64d71e7d",
   "metadata": {},
   "outputs": [
    {
     "data": {
      "text/plain": [
       "LogisticRegression()"
      ]
     },
     "execution_count": 26,
     "metadata": {},
     "output_type": "execute_result"
    }
   ],
   "source": [
    "saslg = LogisticRegression()\n",
    "saslg.fit(X = X_train, y = y_train)"
   ]
  },
  {
   "cell_type": "code",
   "execution_count": 27,
   "id": "16fffc92",
   "metadata": {},
   "outputs": [
    {
     "name": "stdout",
     "output_type": "stream",
     "text": [
      "0.6936332806903185 0.387266561380637\n"
     ]
    }
   ],
   "source": [
    "saslg_train_auc = roc_auc_score(y_train, saslg.predict_proba(X_train).to_numpy()[:,1])\n",
    "saslg_train_gini = 2 * saslg_train_auc - 1\n",
    "print(saslg_train_auc, saslg_train_gini)"
   ]
  },
  {
   "cell_type": "code",
   "execution_count": 28,
   "id": "66720292",
   "metadata": {},
   "outputs": [
    {
     "name": "stdout",
     "output_type": "stream",
     "text": [
      "0.6700292846417402 0.3400585692834803\n"
     ]
    }
   ],
   "source": [
    "saslg_test_auc = roc_auc_score(y_test, saslg.predict_proba(X_test).to_numpy()[:,1])\n",
    "saslg_test_gini = 2 * saslg_test_auc - 1\n",
    "print(saslg_test_auc, saslg_test_gini)"
   ]
  },
  {
   "cell_type": "markdown",
   "id": "4be27e85",
   "metadata": {},
   "source": [
    "#### Gradient Boosting"
   ]
  },
  {
   "cell_type": "code",
   "execution_count": 29,
   "id": "b025b203",
   "metadata": {},
   "outputs": [],
   "source": [
    "import sklearn.ensemble as scikitgb\n",
    "from sasviya.ml.tree import GradientBoostingClassifier"
   ]
  },
  {
   "cell_type": "code",
   "execution_count": 30,
   "id": "b07a82c3",
   "metadata": {},
   "outputs": [
    {
     "data": {
      "text/html": [
       "<style>#sk-container-id-2 {color: black;}#sk-container-id-2 pre{padding: 0;}#sk-container-id-2 div.sk-toggleable {background-color: white;}#sk-container-id-2 label.sk-toggleable__label {cursor: pointer;display: block;width: 100%;margin-bottom: 0;padding: 0.3em;box-sizing: border-box;text-align: center;}#sk-container-id-2 label.sk-toggleable__label-arrow:before {content: \"▸\";float: left;margin-right: 0.25em;color: #696969;}#sk-container-id-2 label.sk-toggleable__label-arrow:hover:before {color: black;}#sk-container-id-2 div.sk-estimator:hover label.sk-toggleable__label-arrow:before {color: black;}#sk-container-id-2 div.sk-toggleable__content {max-height: 0;max-width: 0;overflow: hidden;text-align: left;background-color: #f0f8ff;}#sk-container-id-2 div.sk-toggleable__content pre {margin: 0.2em;color: black;border-radius: 0.25em;background-color: #f0f8ff;}#sk-container-id-2 input.sk-toggleable__control:checked~div.sk-toggleable__content {max-height: 200px;max-width: 100%;overflow: auto;}#sk-container-id-2 input.sk-toggleable__control:checked~label.sk-toggleable__label-arrow:before {content: \"▾\";}#sk-container-id-2 div.sk-estimator input.sk-toggleable__control:checked~label.sk-toggleable__label {background-color: #d4ebff;}#sk-container-id-2 div.sk-label input.sk-toggleable__control:checked~label.sk-toggleable__label {background-color: #d4ebff;}#sk-container-id-2 input.sk-hidden--visually {border: 0;clip: rect(1px 1px 1px 1px);clip: rect(1px, 1px, 1px, 1px);height: 1px;margin: -1px;overflow: hidden;padding: 0;position: absolute;width: 1px;}#sk-container-id-2 div.sk-estimator {font-family: monospace;background-color: #f0f8ff;border: 1px dotted black;border-radius: 0.25em;box-sizing: border-box;margin-bottom: 0.5em;}#sk-container-id-2 div.sk-estimator:hover {background-color: #d4ebff;}#sk-container-id-2 div.sk-parallel-item::after {content: \"\";width: 100%;border-bottom: 1px solid gray;flex-grow: 1;}#sk-container-id-2 div.sk-label:hover label.sk-toggleable__label {background-color: #d4ebff;}#sk-container-id-2 div.sk-serial::before {content: \"\";position: absolute;border-left: 1px solid gray;box-sizing: border-box;top: 0;bottom: 0;left: 50%;z-index: 0;}#sk-container-id-2 div.sk-serial {display: flex;flex-direction: column;align-items: center;background-color: white;padding-right: 0.2em;padding-left: 0.2em;position: relative;}#sk-container-id-2 div.sk-item {position: relative;z-index: 1;}#sk-container-id-2 div.sk-parallel {display: flex;align-items: stretch;justify-content: center;background-color: white;position: relative;}#sk-container-id-2 div.sk-item::before, #sk-container-id-2 div.sk-parallel-item::before {content: \"\";position: absolute;border-left: 1px solid gray;box-sizing: border-box;top: 0;bottom: 0;left: 50%;z-index: -1;}#sk-container-id-2 div.sk-parallel-item {display: flex;flex-direction: column;z-index: 1;position: relative;background-color: white;}#sk-container-id-2 div.sk-parallel-item:first-child::after {align-self: flex-end;width: 50%;}#sk-container-id-2 div.sk-parallel-item:last-child::after {align-self: flex-start;width: 50%;}#sk-container-id-2 div.sk-parallel-item:only-child::after {width: 0;}#sk-container-id-2 div.sk-dashed-wrapped {border: 1px dashed gray;margin: 0 0.4em 0.5em 0.4em;box-sizing: border-box;padding-bottom: 0.4em;background-color: white;}#sk-container-id-2 div.sk-label label {font-family: monospace;font-weight: bold;display: inline-block;line-height: 1.2em;}#sk-container-id-2 div.sk-label-container {text-align: center;}#sk-container-id-2 div.sk-container {/* jupyter's `normalize.less` sets `[hidden] { display: none; }` but bootstrap.min.css set `[hidden] { display: none !important; }` so we also need the `!important` here to be able to override the default hidden behavior on the sphinx rendered scikit-learn.org. See: https://github.com/scikit-learn/scikit-learn/issues/21755 */display: inline-block !important;position: relative;}#sk-container-id-2 div.sk-text-repr-fallback {display: none;}</style><div id=\"sk-container-id-2\" class=\"sk-top-container\"><div class=\"sk-text-repr-fallback\"><pre>GradientBoostingClassifier()</pre><b>In a Jupyter environment, please rerun this cell to show the HTML representation or trust the notebook. <br />On GitHub, the HTML representation is unable to render, please try loading this page with nbviewer.org.</b></div><div class=\"sk-container\" hidden><div class=\"sk-item\"><div class=\"sk-estimator sk-toggleable\"><input class=\"sk-toggleable__control sk-hidden--visually\" id=\"sk-estimator-id-2\" type=\"checkbox\" checked><label for=\"sk-estimator-id-2\" class=\"sk-toggleable__label sk-toggleable__label-arrow\">GradientBoostingClassifier</label><div class=\"sk-toggleable__content\"><pre>GradientBoostingClassifier()</pre></div></div></div></div></div>"
      ],
      "text/plain": [
       "GradientBoostingClassifier()"
      ]
     },
     "execution_count": 30,
     "metadata": {},
     "output_type": "execute_result"
    }
   ],
   "source": [
    "skgb = scikitgb.GradientBoostingClassifier()\n",
    "skgb.fit(X = X_train, y = y_train)"
   ]
  },
  {
   "cell_type": "code",
   "execution_count": 31,
   "id": "d7781076",
   "metadata": {},
   "outputs": [],
   "source": [
    "skgb_train_gini = calculate_gini(y_train, skgb.predict_proba(X_train)[:,1])\n",
    "skgb_test_gini = calculate_gini(y_test, skgb.predict_proba(X_test)[:,1])"
   ]
  },
  {
   "cell_type": "code",
   "execution_count": 32,
   "id": "bdb7b957",
   "metadata": {},
   "outputs": [
    {
     "data": {
      "text/plain": [
       "GradientBoostingClassifier()"
      ]
     },
     "execution_count": 32,
     "metadata": {},
     "output_type": "execute_result"
    }
   ],
   "source": [
    "sasgb = GradientBoostingClassifier()\n",
    "sasgb.fit(X = X_train, y = y_train)"
   ]
  },
  {
   "cell_type": "code",
   "execution_count": 33,
   "id": "cb28a819",
   "metadata": {},
   "outputs": [],
   "source": [
    "sasgb_train_gini = calculate_gini(y_train, sasgb.predict_proba(X_train).to_numpy()[:,1])\n",
    "sasgb_test_gini = calculate_gini(y_test, sasgb.predict_proba(X_test).to_numpy()[:,1])"
   ]
  },
  {
   "cell_type": "code",
   "execution_count": 34,
   "id": "c292fde2",
   "metadata": {},
   "outputs": [
    {
     "data": {
      "text/html": [
       "<div>\n",
       "<style scoped>\n",
       "    .dataframe tbody tr th:only-of-type {\n",
       "        vertical-align: middle;\n",
       "    }\n",
       "\n",
       "    .dataframe tbody tr th {\n",
       "        vertical-align: top;\n",
       "    }\n",
       "\n",
       "    .dataframe thead th {\n",
       "        text-align: right;\n",
       "    }\n",
       "</style>\n",
       "<table border=\"1\" class=\"dataframe\">\n",
       "  <thead>\n",
       "    <tr style=\"text-align: right;\">\n",
       "      <th></th>\n",
       "      <th>Scikit-Learn Logreg</th>\n",
       "      <th>SAS Logreg</th>\n",
       "      <th>Scikit-Learn GBM</th>\n",
       "      <th>SAS GBM</th>\n",
       "    </tr>\n",
       "  </thead>\n",
       "  <tbody>\n",
       "    <tr>\n",
       "      <th>Train</th>\n",
       "      <td>0.387096</td>\n",
       "      <td>0.387267</td>\n",
       "      <td>0.483249</td>\n",
       "      <td>0.564753</td>\n",
       "    </tr>\n",
       "    <tr>\n",
       "      <th>Test</th>\n",
       "      <td>0.340888</td>\n",
       "      <td>0.340059</td>\n",
       "      <td>0.326611</td>\n",
       "      <td>0.317212</td>\n",
       "    </tr>\n",
       "  </tbody>\n",
       "</table>\n",
       "</div>"
      ],
      "text/plain": [
       "       Scikit-Learn Logreg  SAS Logreg  Scikit-Learn GBM   SAS GBM\n",
       "Train             0.387096    0.387267          0.483249  0.564753\n",
       "Test              0.340888    0.340059          0.326611  0.317212"
      ]
     },
     "execution_count": 34,
     "metadata": {},
     "output_type": "execute_result"
    }
   ],
   "source": [
    "model_comparison = pd.DataFrame(\n",
    "    {'Scikit-Learn Logreg': [sklg_train_gini, sklg_test_gini], \n",
    "    'SAS Logreg': [saslg_train_gini, saslg_test_gini],\n",
    "    'Scikit-Learn GBM': [skgb_train_gini, skgb_test_gini],\n",
    "    'SAS GBM': [sasgb_train_gini, sasgb_test_gini]},\n",
    "    [\"Train\", \"Test\"])\n",
    "model_comparison"
   ]
  },
  {
   "cell_type": "markdown",
   "id": "05f28a72",
   "metadata": {},
   "source": [
    "## Train with Synthetic Data"
   ]
  },
  {
   "cell_type": "code",
   "execution_count": 35,
   "id": "7d010b9e",
   "metadata": {},
   "outputs": [
    {
     "data": {
      "text/html": [
       "<div>\n",
       "<style scoped>\n",
       "    .dataframe tbody tr th:only-of-type {\n",
       "        vertical-align: middle;\n",
       "    }\n",
       "\n",
       "    .dataframe tbody tr th {\n",
       "        vertical-align: top;\n",
       "    }\n",
       "\n",
       "    .dataframe thead th {\n",
       "        text-align: right;\n",
       "    }\n",
       "</style>\n",
       "<table border=\"1\" class=\"dataframe\">\n",
       "  <thead>\n",
       "    <tr style=\"text-align: right;\">\n",
       "      <th></th>\n",
       "      <th>CreditPolicy</th>\n",
       "      <th>Purpose</th>\n",
       "      <th>InterestRate</th>\n",
       "      <th>Installment</th>\n",
       "      <th>LogAnnualInc</th>\n",
       "      <th>DebtIncRatio</th>\n",
       "      <th>FICOScore</th>\n",
       "      <th>CreditLineAge</th>\n",
       "      <th>RevBalance</th>\n",
       "      <th>RevUtilization</th>\n",
       "      <th>Inquiries6Mnths</th>\n",
       "      <th>Delinquencies2Yrs</th>\n",
       "      <th>PublicRecord</th>\n",
       "      <th>Default</th>\n",
       "    </tr>\n",
       "  </thead>\n",
       "  <tbody>\n",
       "    <tr>\n",
       "      <th>0</th>\n",
       "      <td>1</td>\n",
       "      <td>debt_consolidation</td>\n",
       "      <td>0.1265</td>\n",
       "      <td>314.98</td>\n",
       "      <td>11.469610</td>\n",
       "      <td>8.74</td>\n",
       "      <td>702</td>\n",
       "      <td>4136.84858</td>\n",
       "      <td>8658</td>\n",
       "      <td>75.6</td>\n",
       "      <td>0</td>\n",
       "      <td>0</td>\n",
       "      <td>0</td>\n",
       "      <td>1</td>\n",
       "    </tr>\n",
       "    <tr>\n",
       "      <th>1</th>\n",
       "      <td>1</td>\n",
       "      <td>debt_consolidation</td>\n",
       "      <td>0.1063</td>\n",
       "      <td>207.84</td>\n",
       "      <td>9.977308</td>\n",
       "      <td>9.66</td>\n",
       "      <td>742</td>\n",
       "      <td>4470.03192</td>\n",
       "      <td>6134</td>\n",
       "      <td>51.3</td>\n",
       "      <td>1</td>\n",
       "      <td>0</td>\n",
       "      <td>0</td>\n",
       "      <td>1</td>\n",
       "    </tr>\n",
       "    <tr>\n",
       "      <th>2</th>\n",
       "      <td>1</td>\n",
       "      <td>all_other</td>\n",
       "      <td>0.1343</td>\n",
       "      <td>169.54</td>\n",
       "      <td>10.860380</td>\n",
       "      <td>3.25</td>\n",
       "      <td>747</td>\n",
       "      <td>3627.37205</td>\n",
       "      <td>9</td>\n",
       "      <td>0.1</td>\n",
       "      <td>0</td>\n",
       "      <td>0</td>\n",
       "      <td>0</td>\n",
       "      <td>1</td>\n",
       "    </tr>\n",
       "    <tr>\n",
       "      <th>3</th>\n",
       "      <td>0</td>\n",
       "      <td>debt_consolidation</td>\n",
       "      <td>0.1313</td>\n",
       "      <td>71.93</td>\n",
       "      <td>10.042653</td>\n",
       "      <td>2.38</td>\n",
       "      <td>655</td>\n",
       "      <td>1826.19979</td>\n",
       "      <td>1113</td>\n",
       "      <td>24.2</td>\n",
       "      <td>4</td>\n",
       "      <td>2</td>\n",
       "      <td>0</td>\n",
       "      <td>1</td>\n",
       "    </tr>\n",
       "    <tr>\n",
       "      <th>4</th>\n",
       "      <td>0</td>\n",
       "      <td>debt_consolidation</td>\n",
       "      <td>0.1106</td>\n",
       "      <td>200.95</td>\n",
       "      <td>10.104707</td>\n",
       "      <td>14.76</td>\n",
       "      <td>730</td>\n",
       "      <td>5613.32106</td>\n",
       "      <td>2708</td>\n",
       "      <td>10.1</td>\n",
       "      <td>2</td>\n",
       "      <td>1</td>\n",
       "      <td>0</td>\n",
       "      <td>1</td>\n",
       "    </tr>\n",
       "    <tr>\n",
       "      <th>5</th>\n",
       "      <td>1</td>\n",
       "      <td>debt_consolidation</td>\n",
       "      <td>0.1356</td>\n",
       "      <td>185.78</td>\n",
       "      <td>10.811018</td>\n",
       "      <td>8.70</td>\n",
       "      <td>703</td>\n",
       "      <td>6414.36732</td>\n",
       "      <td>11444</td>\n",
       "      <td>64.6</td>\n",
       "      <td>2</td>\n",
       "      <td>1</td>\n",
       "      <td>0</td>\n",
       "      <td>1</td>\n",
       "    </tr>\n",
       "    <tr>\n",
       "      <th>6</th>\n",
       "      <td>0</td>\n",
       "      <td>small_business</td>\n",
       "      <td>0.1165</td>\n",
       "      <td>687.52</td>\n",
       "      <td>11.922338</td>\n",
       "      <td>7.53</td>\n",
       "      <td>697</td>\n",
       "      <td>5268.03980</td>\n",
       "      <td>16243</td>\n",
       "      <td>79.7</td>\n",
       "      <td>6</td>\n",
       "      <td>0</td>\n",
       "      <td>0</td>\n",
       "      <td>1</td>\n",
       "    </tr>\n",
       "    <tr>\n",
       "      <th>7</th>\n",
       "      <td>1</td>\n",
       "      <td>all_other</td>\n",
       "      <td>0.1092</td>\n",
       "      <td>231.47</td>\n",
       "      <td>11.350616</td>\n",
       "      <td>6.87</td>\n",
       "      <td>712</td>\n",
       "      <td>6751.00467</td>\n",
       "      <td>17353</td>\n",
       "      <td>69.0</td>\n",
       "      <td>1</td>\n",
       "      <td>0</td>\n",
       "      <td>0</td>\n",
       "      <td>1</td>\n",
       "    </tr>\n",
       "    <tr>\n",
       "      <th>8</th>\n",
       "      <td>1</td>\n",
       "      <td>debt_consolidation</td>\n",
       "      <td>0.1051</td>\n",
       "      <td>325.17</td>\n",
       "      <td>10.464730</td>\n",
       "      <td>10.92</td>\n",
       "      <td>720</td>\n",
       "      <td>5589.15142</td>\n",
       "      <td>9016</td>\n",
       "      <td>37.0</td>\n",
       "      <td>1</td>\n",
       "      <td>0</td>\n",
       "      <td>0</td>\n",
       "      <td>1</td>\n",
       "    </tr>\n",
       "    <tr>\n",
       "      <th>9</th>\n",
       "      <td>1</td>\n",
       "      <td>debt_consolidation</td>\n",
       "      <td>0.0926</td>\n",
       "      <td>277.16</td>\n",
       "      <td>10.618001</td>\n",
       "      <td>11.95</td>\n",
       "      <td>732</td>\n",
       "      <td>3488.36768</td>\n",
       "      <td>13430</td>\n",
       "      <td>66.6</td>\n",
       "      <td>0</td>\n",
       "      <td>0</td>\n",
       "      <td>0</td>\n",
       "      <td>1</td>\n",
       "    </tr>\n",
       "  </tbody>\n",
       "</table>\n",
       "</div>"
      ],
      "text/plain": [
       "   CreditPolicy             Purpose  InterestRate  Installment  LogAnnualInc  \\\n",
       "0             1  debt_consolidation        0.1265       314.98     11.469610   \n",
       "1             1  debt_consolidation        0.1063       207.84      9.977308   \n",
       "2             1           all_other        0.1343       169.54     10.860380   \n",
       "3             0  debt_consolidation        0.1313        71.93     10.042653   \n",
       "4             0  debt_consolidation        0.1106       200.95     10.104707   \n",
       "5             1  debt_consolidation        0.1356       185.78     10.811018   \n",
       "6             0      small_business        0.1165       687.52     11.922338   \n",
       "7             1           all_other        0.1092       231.47     11.350616   \n",
       "8             1  debt_consolidation        0.1051       325.17     10.464730   \n",
       "9             1  debt_consolidation        0.0926       277.16     10.618001   \n",
       "\n",
       "   DebtIncRatio  FICOScore  CreditLineAge  RevBalance  RevUtilization  \\\n",
       "0          8.74        702     4136.84858        8658            75.6   \n",
       "1          9.66        742     4470.03192        6134            51.3   \n",
       "2          3.25        747     3627.37205           9             0.1   \n",
       "3          2.38        655     1826.19979        1113            24.2   \n",
       "4         14.76        730     5613.32106        2708            10.1   \n",
       "5          8.70        703     6414.36732       11444            64.6   \n",
       "6          7.53        697     5268.03980       16243            79.7   \n",
       "7          6.87        712     6751.00467       17353            69.0   \n",
       "8         10.92        720     5589.15142        9016            37.0   \n",
       "9         11.95        732     3488.36768       13430            66.6   \n",
       "\n",
       "   Inquiries6Mnths  Delinquencies2Yrs  PublicRecord  Default  \n",
       "0                0                  0             0        1  \n",
       "1                1                  0             0        1  \n",
       "2                0                  0             0        1  \n",
       "3                4                  2             0        1  \n",
       "4                2                  1             0        1  \n",
       "5                2                  1             0        1  \n",
       "6                6                  0             0        1  \n",
       "7                1                  0             0        1  \n",
       "8                1                  0             0        1  \n",
       "9                0                  0             0        1  "
      ]
     },
     "execution_count": 35,
     "metadata": {},
     "output_type": "execute_result"
    }
   ],
   "source": [
    "synthetic_credit_data = pd.read_csv(\"/workspaces/myfolder/data/LendingClubLoan_SDM_1M.csv\")\n",
    "synthetic_credit_data.rename(columns={\"CredLineAge\": \"CreditLineAge\"}, inplace=True)\n",
    "synthetic_credit_data.head(n=10)"
   ]
  },
  {
   "cell_type": "code",
   "execution_count": 36,
   "id": "9fc2a5fc",
   "metadata": {},
   "outputs": [],
   "source": [
    "### WOE binning\n",
    "# Set Up Inputs and Target\n",
    "nominal_inputs = ['Purpose']\n",
    "cont_inputs = ['CreditPolicy', 'InterestRate', 'Installment',\n",
    "                'LogAnnualInc', 'DebtIncRatio', 'FICOScore',\n",
    "                'CreditLineAge', 'RevBalance', 'RevUtilization',\n",
    "                'Inquiries6Mnths', 'Delinquencies2Yrs', 'PublicRecord']\n",
    "target = 'Default'"
   ]
  },
  {
   "cell_type": "code",
   "execution_count": 37,
   "id": "79fc8483",
   "metadata": {},
   "outputs": [],
   "source": [
    "syn_woe_transform = woe_binning(synthetic_credit_data, nominal_inputs, cont_inputs, target)"
   ]
  },
  {
   "cell_type": "code",
   "execution_count": 38,
   "id": "57c7add9",
   "metadata": {},
   "outputs": [
    {
     "data": {
      "text/html": [
       "<div>\n",
       "<style scoped>\n",
       "    .dataframe tbody tr th:only-of-type {\n",
       "        vertical-align: middle;\n",
       "    }\n",
       "\n",
       "    .dataframe tbody tr th {\n",
       "        vertical-align: top;\n",
       "    }\n",
       "\n",
       "    .dataframe thead th {\n",
       "        text-align: right;\n",
       "    }\n",
       "</style>\n",
       "<table border=\"1\" class=\"dataframe\">\n",
       "  <thead>\n",
       "    <tr style=\"text-align: right;\">\n",
       "      <th></th>\n",
       "      <th>_Index_</th>\n",
       "      <th>Default</th>\n",
       "      <th>woe_CreditLineAge</th>\n",
       "      <th>woe_CreditPolicy</th>\n",
       "      <th>woe_DebtIncRatio</th>\n",
       "      <th>woe_Delinquencies2Yrs</th>\n",
       "      <th>woe_FICOScore</th>\n",
       "      <th>woe_Inquiries6Mnths</th>\n",
       "      <th>woe_Installment</th>\n",
       "      <th>woe_InterestRate</th>\n",
       "      <th>woe_LogAnnualInc</th>\n",
       "      <th>woe_PublicRecord</th>\n",
       "      <th>woe_RevBalance</th>\n",
       "      <th>woe_RevUtilization</th>\n",
       "      <th>woe_Purpose</th>\n",
       "    </tr>\n",
       "  </thead>\n",
       "  <tbody>\n",
       "    <tr>\n",
       "      <th>0</th>\n",
       "      <td>1</td>\n",
       "      <td>1.0</td>\n",
       "      <td>-0.127053</td>\n",
       "      <td>0.230321</td>\n",
       "      <td>0.119382</td>\n",
       "      <td>0.015053</td>\n",
       "      <td>-0.200266</td>\n",
       "      <td>0.537321</td>\n",
       "      <td>0.080265</td>\n",
       "      <td>-0.153848</td>\n",
       "      <td>0.216636</td>\n",
       "      <td>0.040459</td>\n",
       "      <td>0.042673</td>\n",
       "      <td>-0.265931</td>\n",
       "      <td>0.059202</td>\n",
       "    </tr>\n",
       "    <tr>\n",
       "      <th>1</th>\n",
       "      <td>2</td>\n",
       "      <td>1.0</td>\n",
       "      <td>0.089447</td>\n",
       "      <td>-0.710679</td>\n",
       "      <td>0.030045</td>\n",
       "      <td>-0.108989</td>\n",
       "      <td>0.388610</td>\n",
       "      <td>-0.031631</td>\n",
       "      <td>0.113339</td>\n",
       "      <td>0.236923</td>\n",
       "      <td>-0.163336</td>\n",
       "      <td>0.040459</td>\n",
       "      <td>0.042673</td>\n",
       "      <td>0.544738</td>\n",
       "      <td>0.059202</td>\n",
       "    </tr>\n",
       "    <tr>\n",
       "      <th>2</th>\n",
       "      <td>3</td>\n",
       "      <td>1.0</td>\n",
       "      <td>0.089447</td>\n",
       "      <td>0.230321</td>\n",
       "      <td>0.119382</td>\n",
       "      <td>0.015053</td>\n",
       "      <td>0.083186</td>\n",
       "      <td>0.196990</td>\n",
       "      <td>0.080265</td>\n",
       "      <td>0.488627</td>\n",
       "      <td>-0.163336</td>\n",
       "      <td>0.040459</td>\n",
       "      <td>0.042673</td>\n",
       "      <td>0.025967</td>\n",
       "      <td>0.059202</td>\n",
       "    </tr>\n",
       "    <tr>\n",
       "      <th>3</th>\n",
       "      <td>4</td>\n",
       "      <td>1.0</td>\n",
       "      <td>-0.054577</td>\n",
       "      <td>0.230321</td>\n",
       "      <td>0.030045</td>\n",
       "      <td>0.015053</td>\n",
       "      <td>0.811729</td>\n",
       "      <td>-0.031631</td>\n",
       "      <td>-0.170546</td>\n",
       "      <td>0.236923</td>\n",
       "      <td>0.145070</td>\n",
       "      <td>0.040459</td>\n",
       "      <td>0.061241</td>\n",
       "      <td>0.025967</td>\n",
       "      <td>0.059202</td>\n",
       "    </tr>\n",
       "    <tr>\n",
       "      <th>4</th>\n",
       "      <td>5</td>\n",
       "      <td>1.0</td>\n",
       "      <td>-0.127053</td>\n",
       "      <td>0.230321</td>\n",
       "      <td>0.030045</td>\n",
       "      <td>0.015053</td>\n",
       "      <td>0.083186</td>\n",
       "      <td>0.196990</td>\n",
       "      <td>0.113339</td>\n",
       "      <td>0.236923</td>\n",
       "      <td>0.024754</td>\n",
       "      <td>0.040459</td>\n",
       "      <td>0.042673</td>\n",
       "      <td>0.025967</td>\n",
       "      <td>-0.047869</td>\n",
       "    </tr>\n",
       "    <tr>\n",
       "      <th>...</th>\n",
       "      <td>...</td>\n",
       "      <td>...</td>\n",
       "      <td>...</td>\n",
       "      <td>...</td>\n",
       "      <td>...</td>\n",
       "      <td>...</td>\n",
       "      <td>...</td>\n",
       "      <td>...</td>\n",
       "      <td>...</td>\n",
       "      <td>...</td>\n",
       "      <td>...</td>\n",
       "      <td>...</td>\n",
       "      <td>...</td>\n",
       "      <td>...</td>\n",
       "      <td>...</td>\n",
       "    </tr>\n",
       "    <tr>\n",
       "      <th>999995</th>\n",
       "      <td>999996</td>\n",
       "      <td>0.0</td>\n",
       "      <td>-0.371063</td>\n",
       "      <td>-0.710679</td>\n",
       "      <td>0.119382</td>\n",
       "      <td>0.015053</td>\n",
       "      <td>-0.200266</td>\n",
       "      <td>-1.121245</td>\n",
       "      <td>-0.052338</td>\n",
       "      <td>0.488627</td>\n",
       "      <td>-0.572902</td>\n",
       "      <td>0.040459</td>\n",
       "      <td>0.042673</td>\n",
       "      <td>0.158174</td>\n",
       "      <td>0.377841</td>\n",
       "    </tr>\n",
       "    <tr>\n",
       "      <th>999996</th>\n",
       "      <td>999997</td>\n",
       "      <td>0.0</td>\n",
       "      <td>-0.371063</td>\n",
       "      <td>0.230321</td>\n",
       "      <td>0.119382</td>\n",
       "      <td>0.015053</td>\n",
       "      <td>-0.557031</td>\n",
       "      <td>-0.031631</td>\n",
       "      <td>0.113339</td>\n",
       "      <td>-0.153848</td>\n",
       "      <td>-0.049313</td>\n",
       "      <td>0.040459</td>\n",
       "      <td>0.042673</td>\n",
       "      <td>-0.265931</td>\n",
       "      <td>0.059202</td>\n",
       "    </tr>\n",
       "    <tr>\n",
       "      <th>999997</th>\n",
       "      <td>999998</td>\n",
       "      <td>0.0</td>\n",
       "      <td>0.160420</td>\n",
       "      <td>0.230321</td>\n",
       "      <td>-0.085988</td>\n",
       "      <td>0.015053</td>\n",
       "      <td>0.083186</td>\n",
       "      <td>-0.031631</td>\n",
       "      <td>-0.052338</td>\n",
       "      <td>0.488627</td>\n",
       "      <td>0.145070</td>\n",
       "      <td>0.040459</td>\n",
       "      <td>0.042673</td>\n",
       "      <td>0.025967</td>\n",
       "      <td>0.059202</td>\n",
       "    </tr>\n",
       "    <tr>\n",
       "      <th>999998</th>\n",
       "      <td>999999</td>\n",
       "      <td>0.0</td>\n",
       "      <td>0.160420</td>\n",
       "      <td>0.230321</td>\n",
       "      <td>0.119382</td>\n",
       "      <td>0.015053</td>\n",
       "      <td>0.388610</td>\n",
       "      <td>0.537321</td>\n",
       "      <td>0.204392</td>\n",
       "      <td>1.129423</td>\n",
       "      <td>-0.572902</td>\n",
       "      <td>0.040459</td>\n",
       "      <td>0.042673</td>\n",
       "      <td>0.213934</td>\n",
       "      <td>-0.047869</td>\n",
       "    </tr>\n",
       "    <tr>\n",
       "      <th>999999</th>\n",
       "      <td>1000000</td>\n",
       "      <td>0.0</td>\n",
       "      <td>0.089447</td>\n",
       "      <td>0.230321</td>\n",
       "      <td>0.030045</td>\n",
       "      <td>0.015053</td>\n",
       "      <td>0.811729</td>\n",
       "      <td>-0.405652</td>\n",
       "      <td>0.080265</td>\n",
       "      <td>1.738852</td>\n",
       "      <td>-0.049313</td>\n",
       "      <td>0.040459</td>\n",
       "      <td>0.042673</td>\n",
       "      <td>0.544738</td>\n",
       "      <td>-0.716132</td>\n",
       "    </tr>\n",
       "  </tbody>\n",
       "</table>\n",
       "<p>1000000 rows × 15 columns</p>\n",
       "</div>"
      ],
      "text/plain": [
       "        _Index_  Default  woe_CreditLineAge  woe_CreditPolicy  \\\n",
       "0             1      1.0          -0.127053          0.230321   \n",
       "1             2      1.0           0.089447         -0.710679   \n",
       "2             3      1.0           0.089447          0.230321   \n",
       "3             4      1.0          -0.054577          0.230321   \n",
       "4             5      1.0          -0.127053          0.230321   \n",
       "...         ...      ...                ...               ...   \n",
       "999995   999996      0.0          -0.371063         -0.710679   \n",
       "999996   999997      0.0          -0.371063          0.230321   \n",
       "999997   999998      0.0           0.160420          0.230321   \n",
       "999998   999999      0.0           0.160420          0.230321   \n",
       "999999  1000000      0.0           0.089447          0.230321   \n",
       "\n",
       "        woe_DebtIncRatio  woe_Delinquencies2Yrs  woe_FICOScore  \\\n",
       "0               0.119382               0.015053      -0.200266   \n",
       "1               0.030045              -0.108989       0.388610   \n",
       "2               0.119382               0.015053       0.083186   \n",
       "3               0.030045               0.015053       0.811729   \n",
       "4               0.030045               0.015053       0.083186   \n",
       "...                  ...                    ...            ...   \n",
       "999995          0.119382               0.015053      -0.200266   \n",
       "999996          0.119382               0.015053      -0.557031   \n",
       "999997         -0.085988               0.015053       0.083186   \n",
       "999998          0.119382               0.015053       0.388610   \n",
       "999999          0.030045               0.015053       0.811729   \n",
       "\n",
       "        woe_Inquiries6Mnths  woe_Installment  woe_InterestRate  \\\n",
       "0                  0.537321         0.080265         -0.153848   \n",
       "1                 -0.031631         0.113339          0.236923   \n",
       "2                  0.196990         0.080265          0.488627   \n",
       "3                 -0.031631        -0.170546          0.236923   \n",
       "4                  0.196990         0.113339          0.236923   \n",
       "...                     ...              ...               ...   \n",
       "999995            -1.121245        -0.052338          0.488627   \n",
       "999996            -0.031631         0.113339         -0.153848   \n",
       "999997            -0.031631        -0.052338          0.488627   \n",
       "999998             0.537321         0.204392          1.129423   \n",
       "999999            -0.405652         0.080265          1.738852   \n",
       "\n",
       "        woe_LogAnnualInc  woe_PublicRecord  woe_RevBalance  \\\n",
       "0               0.216636          0.040459        0.042673   \n",
       "1              -0.163336          0.040459        0.042673   \n",
       "2              -0.163336          0.040459        0.042673   \n",
       "3               0.145070          0.040459        0.061241   \n",
       "4               0.024754          0.040459        0.042673   \n",
       "...                  ...               ...             ...   \n",
       "999995         -0.572902          0.040459        0.042673   \n",
       "999996         -0.049313          0.040459        0.042673   \n",
       "999997          0.145070          0.040459        0.042673   \n",
       "999998         -0.572902          0.040459        0.042673   \n",
       "999999         -0.049313          0.040459        0.042673   \n",
       "\n",
       "        woe_RevUtilization  woe_Purpose  \n",
       "0                -0.265931     0.059202  \n",
       "1                 0.544738     0.059202  \n",
       "2                 0.025967     0.059202  \n",
       "3                 0.025967     0.059202  \n",
       "4                 0.025967    -0.047869  \n",
       "...                    ...          ...  \n",
       "999995            0.158174     0.377841  \n",
       "999996           -0.265931     0.059202  \n",
       "999997            0.025967     0.059202  \n",
       "999998            0.213934    -0.047869  \n",
       "999999            0.544738    -0.716132  \n",
       "\n",
       "[1000000 rows x 15 columns]"
      ]
     },
     "execution_count": 38,
     "metadata": {},
     "output_type": "execute_result"
    }
   ],
   "source": [
    "syn_woe_transform_credit_data = pd.DataFrame(fetch(\"woe_transform\", len(synthetic_credit_data), len(synthetic_credit_data)).Fetch)\n",
    "syn_woe_transform_credit_data"
   ]
  },
  {
   "cell_type": "code",
   "execution_count": 39,
   "id": "0e0788f7",
   "metadata": {},
   "outputs": [],
   "source": [
    "syn_woe_inputs = syn_woe_transform_credit_data.drop(['_Index_','Default'], axis=1)\n",
    "syn_woe_inputs = syn_woe_inputs[X_test.columns.tolist()]"
   ]
  },
  {
   "cell_type": "markdown",
   "id": "5d760686",
   "metadata": {},
   "source": [
    "#### Model Training on Synthetic Data\n",
    "\n",
    "Train Logistic Regressions and Gradient Boosting models on synthetic data and evaluate on holdout set"
   ]
  },
  {
   "cell_type": "code",
   "execution_count": 40,
   "id": "76bd3fe9",
   "metadata": {},
   "outputs": [
    {
     "data": {
      "text/html": [
       "<style>#sk-container-id-3 {color: black;}#sk-container-id-3 pre{padding: 0;}#sk-container-id-3 div.sk-toggleable {background-color: white;}#sk-container-id-3 label.sk-toggleable__label {cursor: pointer;display: block;width: 100%;margin-bottom: 0;padding: 0.3em;box-sizing: border-box;text-align: center;}#sk-container-id-3 label.sk-toggleable__label-arrow:before {content: \"▸\";float: left;margin-right: 0.25em;color: #696969;}#sk-container-id-3 label.sk-toggleable__label-arrow:hover:before {color: black;}#sk-container-id-3 div.sk-estimator:hover label.sk-toggleable__label-arrow:before {color: black;}#sk-container-id-3 div.sk-toggleable__content {max-height: 0;max-width: 0;overflow: hidden;text-align: left;background-color: #f0f8ff;}#sk-container-id-3 div.sk-toggleable__content pre {margin: 0.2em;color: black;border-radius: 0.25em;background-color: #f0f8ff;}#sk-container-id-3 input.sk-toggleable__control:checked~div.sk-toggleable__content {max-height: 200px;max-width: 100%;overflow: auto;}#sk-container-id-3 input.sk-toggleable__control:checked~label.sk-toggleable__label-arrow:before {content: \"▾\";}#sk-container-id-3 div.sk-estimator input.sk-toggleable__control:checked~label.sk-toggleable__label {background-color: #d4ebff;}#sk-container-id-3 div.sk-label input.sk-toggleable__control:checked~label.sk-toggleable__label {background-color: #d4ebff;}#sk-container-id-3 input.sk-hidden--visually {border: 0;clip: rect(1px 1px 1px 1px);clip: rect(1px, 1px, 1px, 1px);height: 1px;margin: -1px;overflow: hidden;padding: 0;position: absolute;width: 1px;}#sk-container-id-3 div.sk-estimator {font-family: monospace;background-color: #f0f8ff;border: 1px dotted black;border-radius: 0.25em;box-sizing: border-box;margin-bottom: 0.5em;}#sk-container-id-3 div.sk-estimator:hover {background-color: #d4ebff;}#sk-container-id-3 div.sk-parallel-item::after {content: \"\";width: 100%;border-bottom: 1px solid gray;flex-grow: 1;}#sk-container-id-3 div.sk-label:hover label.sk-toggleable__label {background-color: #d4ebff;}#sk-container-id-3 div.sk-serial::before {content: \"\";position: absolute;border-left: 1px solid gray;box-sizing: border-box;top: 0;bottom: 0;left: 50%;z-index: 0;}#sk-container-id-3 div.sk-serial {display: flex;flex-direction: column;align-items: center;background-color: white;padding-right: 0.2em;padding-left: 0.2em;position: relative;}#sk-container-id-3 div.sk-item {position: relative;z-index: 1;}#sk-container-id-3 div.sk-parallel {display: flex;align-items: stretch;justify-content: center;background-color: white;position: relative;}#sk-container-id-3 div.sk-item::before, #sk-container-id-3 div.sk-parallel-item::before {content: \"\";position: absolute;border-left: 1px solid gray;box-sizing: border-box;top: 0;bottom: 0;left: 50%;z-index: -1;}#sk-container-id-3 div.sk-parallel-item {display: flex;flex-direction: column;z-index: 1;position: relative;background-color: white;}#sk-container-id-3 div.sk-parallel-item:first-child::after {align-self: flex-end;width: 50%;}#sk-container-id-3 div.sk-parallel-item:last-child::after {align-self: flex-start;width: 50%;}#sk-container-id-3 div.sk-parallel-item:only-child::after {width: 0;}#sk-container-id-3 div.sk-dashed-wrapped {border: 1px dashed gray;margin: 0 0.4em 0.5em 0.4em;box-sizing: border-box;padding-bottom: 0.4em;background-color: white;}#sk-container-id-3 div.sk-label label {font-family: monospace;font-weight: bold;display: inline-block;line-height: 1.2em;}#sk-container-id-3 div.sk-label-container {text-align: center;}#sk-container-id-3 div.sk-container {/* jupyter's `normalize.less` sets `[hidden] { display: none; }` but bootstrap.min.css set `[hidden] { display: none !important; }` so we also need the `!important` here to be able to override the default hidden behavior on the sphinx rendered scikit-learn.org. See: https://github.com/scikit-learn/scikit-learn/issues/21755 */display: inline-block !important;position: relative;}#sk-container-id-3 div.sk-text-repr-fallback {display: none;}</style><div id=\"sk-container-id-3\" class=\"sk-top-container\"><div class=\"sk-text-repr-fallback\"><pre>LogisticRegression()</pre><b>In a Jupyter environment, please rerun this cell to show the HTML representation or trust the notebook. <br />On GitHub, the HTML representation is unable to render, please try loading this page with nbviewer.org.</b></div><div class=\"sk-container\" hidden><div class=\"sk-item\"><div class=\"sk-estimator sk-toggleable\"><input class=\"sk-toggleable__control sk-hidden--visually\" id=\"sk-estimator-id-3\" type=\"checkbox\" checked><label for=\"sk-estimator-id-3\" class=\"sk-toggleable__label sk-toggleable__label-arrow\">LogisticRegression</label><div class=\"sk-toggleable__content\"><pre>LogisticRegression()</pre></div></div></div></div></div>"
      ],
      "text/plain": [
       "LogisticRegression()"
      ]
     },
     "execution_count": 40,
     "metadata": {},
     "output_type": "execute_result"
    }
   ],
   "source": [
    "syn_sklg = scikitlg.LogisticRegression()\n",
    "syn_sklg.fit(X = syn_woe_inputs, y = syn_woe_transform_credit_data['Default'])"
   ]
  },
  {
   "cell_type": "code",
   "execution_count": 41,
   "id": "5a7e7403",
   "metadata": {},
   "outputs": [
    {
     "data": {
      "text/plain": [
       "LogisticRegression()"
      ]
     },
     "execution_count": 41,
     "metadata": {},
     "output_type": "execute_result"
    }
   ],
   "source": [
    "syn_saslg = LogisticRegression()\n",
    "syn_saslg.fit(X = syn_woe_inputs, y = syn_woe_transform_credit_data['Default'])"
   ]
  },
  {
   "cell_type": "code",
   "execution_count": 42,
   "id": "00972ee0",
   "metadata": {},
   "outputs": [],
   "source": [
    "syn_sklg_train_gini = calculate_gini(syn_woe_transform_credit_data['Default'], syn_sklg.predict_proba(syn_woe_inputs)[:,1])\n",
    "syn_sklg_test_gini = calculate_gini(y_test, syn_sklg.predict_proba(X_test)[:,1])"
   ]
  },
  {
   "cell_type": "code",
   "execution_count": 43,
   "id": "50f22828",
   "metadata": {},
   "outputs": [],
   "source": [
    "syn_saslg_train_gini = calculate_gini(syn_woe_transform_credit_data['Default'], syn_saslg.predict_proba(syn_woe_inputs).to_numpy()[:,1])\n",
    "syn_saslg_test_gini = calculate_gini(y_test, syn_saslg.predict_proba(X_test).to_numpy()[:,1])"
   ]
  },
  {
   "cell_type": "code",
   "execution_count": 44,
   "id": "7db0a1db",
   "metadata": {},
   "outputs": [
    {
     "data": {
      "text/html": [
       "<style>#sk-container-id-4 {color: black;}#sk-container-id-4 pre{padding: 0;}#sk-container-id-4 div.sk-toggleable {background-color: white;}#sk-container-id-4 label.sk-toggleable__label {cursor: pointer;display: block;width: 100%;margin-bottom: 0;padding: 0.3em;box-sizing: border-box;text-align: center;}#sk-container-id-4 label.sk-toggleable__label-arrow:before {content: \"▸\";float: left;margin-right: 0.25em;color: #696969;}#sk-container-id-4 label.sk-toggleable__label-arrow:hover:before {color: black;}#sk-container-id-4 div.sk-estimator:hover label.sk-toggleable__label-arrow:before {color: black;}#sk-container-id-4 div.sk-toggleable__content {max-height: 0;max-width: 0;overflow: hidden;text-align: left;background-color: #f0f8ff;}#sk-container-id-4 div.sk-toggleable__content pre {margin: 0.2em;color: black;border-radius: 0.25em;background-color: #f0f8ff;}#sk-container-id-4 input.sk-toggleable__control:checked~div.sk-toggleable__content {max-height: 200px;max-width: 100%;overflow: auto;}#sk-container-id-4 input.sk-toggleable__control:checked~label.sk-toggleable__label-arrow:before {content: \"▾\";}#sk-container-id-4 div.sk-estimator input.sk-toggleable__control:checked~label.sk-toggleable__label {background-color: #d4ebff;}#sk-container-id-4 div.sk-label input.sk-toggleable__control:checked~label.sk-toggleable__label {background-color: #d4ebff;}#sk-container-id-4 input.sk-hidden--visually {border: 0;clip: rect(1px 1px 1px 1px);clip: rect(1px, 1px, 1px, 1px);height: 1px;margin: -1px;overflow: hidden;padding: 0;position: absolute;width: 1px;}#sk-container-id-4 div.sk-estimator {font-family: monospace;background-color: #f0f8ff;border: 1px dotted black;border-radius: 0.25em;box-sizing: border-box;margin-bottom: 0.5em;}#sk-container-id-4 div.sk-estimator:hover {background-color: #d4ebff;}#sk-container-id-4 div.sk-parallel-item::after {content: \"\";width: 100%;border-bottom: 1px solid gray;flex-grow: 1;}#sk-container-id-4 div.sk-label:hover label.sk-toggleable__label {background-color: #d4ebff;}#sk-container-id-4 div.sk-serial::before {content: \"\";position: absolute;border-left: 1px solid gray;box-sizing: border-box;top: 0;bottom: 0;left: 50%;z-index: 0;}#sk-container-id-4 div.sk-serial {display: flex;flex-direction: column;align-items: center;background-color: white;padding-right: 0.2em;padding-left: 0.2em;position: relative;}#sk-container-id-4 div.sk-item {position: relative;z-index: 1;}#sk-container-id-4 div.sk-parallel {display: flex;align-items: stretch;justify-content: center;background-color: white;position: relative;}#sk-container-id-4 div.sk-item::before, #sk-container-id-4 div.sk-parallel-item::before {content: \"\";position: absolute;border-left: 1px solid gray;box-sizing: border-box;top: 0;bottom: 0;left: 50%;z-index: -1;}#sk-container-id-4 div.sk-parallel-item {display: flex;flex-direction: column;z-index: 1;position: relative;background-color: white;}#sk-container-id-4 div.sk-parallel-item:first-child::after {align-self: flex-end;width: 50%;}#sk-container-id-4 div.sk-parallel-item:last-child::after {align-self: flex-start;width: 50%;}#sk-container-id-4 div.sk-parallel-item:only-child::after {width: 0;}#sk-container-id-4 div.sk-dashed-wrapped {border: 1px dashed gray;margin: 0 0.4em 0.5em 0.4em;box-sizing: border-box;padding-bottom: 0.4em;background-color: white;}#sk-container-id-4 div.sk-label label {font-family: monospace;font-weight: bold;display: inline-block;line-height: 1.2em;}#sk-container-id-4 div.sk-label-container {text-align: center;}#sk-container-id-4 div.sk-container {/* jupyter's `normalize.less` sets `[hidden] { display: none; }` but bootstrap.min.css set `[hidden] { display: none !important; }` so we also need the `!important` here to be able to override the default hidden behavior on the sphinx rendered scikit-learn.org. See: https://github.com/scikit-learn/scikit-learn/issues/21755 */display: inline-block !important;position: relative;}#sk-container-id-4 div.sk-text-repr-fallback {display: none;}</style><div id=\"sk-container-id-4\" class=\"sk-top-container\"><div class=\"sk-text-repr-fallback\"><pre>GradientBoostingClassifier()</pre><b>In a Jupyter environment, please rerun this cell to show the HTML representation or trust the notebook. <br />On GitHub, the HTML representation is unable to render, please try loading this page with nbviewer.org.</b></div><div class=\"sk-container\" hidden><div class=\"sk-item\"><div class=\"sk-estimator sk-toggleable\"><input class=\"sk-toggleable__control sk-hidden--visually\" id=\"sk-estimator-id-4\" type=\"checkbox\" checked><label for=\"sk-estimator-id-4\" class=\"sk-toggleable__label sk-toggleable__label-arrow\">GradientBoostingClassifier</label><div class=\"sk-toggleable__content\"><pre>GradientBoostingClassifier()</pre></div></div></div></div></div>"
      ],
      "text/plain": [
       "GradientBoostingClassifier()"
      ]
     },
     "execution_count": 44,
     "metadata": {},
     "output_type": "execute_result"
    }
   ],
   "source": [
    "syn_skgb = scikitgb.GradientBoostingClassifier()\n",
    "syn_skgb.fit(X = syn_woe_inputs, y = syn_woe_transform_credit_data['Default'])"
   ]
  },
  {
   "cell_type": "code",
   "execution_count": 45,
   "id": "cc053da7",
   "metadata": {},
   "outputs": [
    {
     "name": "stdout",
     "output_type": "stream",
     "text": [
      "1min 12s ± 0 ns per loop (mean ± std. dev. of 1 run, 1 loop each)\n"
     ]
    }
   ],
   "source": [
    "%%timeit -n 1 -r 1\n",
    "syn_skgb = scikitgb.GradientBoostingClassifier()\n",
    "syn_skgb.fit(X = syn_woe_inputs, y = syn_woe_transform_credit_data['Default'])"
   ]
  },
  {
   "cell_type": "code",
   "execution_count": 46,
   "id": "6b8414bb",
   "metadata": {},
   "outputs": [],
   "source": [
    "syn_skgb_train_gini = calculate_gini(syn_woe_transform_credit_data['Default'], syn_skgb.predict_proba(syn_woe_inputs)[:,1])\n",
    "syn_skgb_test_gini = calculate_gini(y_test, syn_skgb.predict_proba(X_test)[:,1])"
   ]
  },
  {
   "cell_type": "code",
   "execution_count": 47,
   "id": "67a618e6",
   "metadata": {},
   "outputs": [
    {
     "data": {
      "text/plain": [
       "GradientBoostingClassifier()"
      ]
     },
     "execution_count": 47,
     "metadata": {},
     "output_type": "execute_result"
    }
   ],
   "source": [
    "syn_sasgb = GradientBoostingClassifier()\n",
    "syn_sasgb.fit(X = syn_woe_inputs, y = syn_woe_transform_credit_data['Default'])"
   ]
  },
  {
   "cell_type": "code",
   "execution_count": 48,
   "id": "7bce6d90",
   "metadata": {},
   "outputs": [
    {
     "name": "stdout",
     "output_type": "stream",
     "text": [
      "6.72 s ± 0 ns per loop (mean ± std. dev. of 1 run, 1 loop each)\n"
     ]
    }
   ],
   "source": [
    "%%timeit -n 1 -r 1\n",
    "syn_sasgb = GradientBoostingClassifier()\n",
    "syn_sasgb.fit(X = syn_woe_inputs, y = syn_woe_transform_credit_data['Default'])"
   ]
  },
  {
   "cell_type": "code",
   "execution_count": 49,
   "id": "2486a3f9",
   "metadata": {},
   "outputs": [],
   "source": [
    "syn_sasgb_train_gini = calculate_gini(syn_woe_transform_credit_data['Default'], syn_sasgb.predict_proba(syn_woe_inputs).to_numpy()[:,1])\n",
    "syn_sasgb_test_gini = calculate_gini(y_test, syn_sasgb.predict_proba(X_test).to_numpy()[:,1])"
   ]
  },
  {
   "cell_type": "code",
   "execution_count": 50,
   "id": "cfb0c97a",
   "metadata": {},
   "outputs": [
    {
     "data": {
      "text/html": [
       "<div>\n",
       "<style scoped>\n",
       "    .dataframe tbody tr th:only-of-type {\n",
       "        vertical-align: middle;\n",
       "    }\n",
       "\n",
       "    .dataframe tbody tr th {\n",
       "        vertical-align: top;\n",
       "    }\n",
       "\n",
       "    .dataframe thead th {\n",
       "        text-align: right;\n",
       "    }\n",
       "</style>\n",
       "<table border=\"1\" class=\"dataframe\">\n",
       "  <thead>\n",
       "    <tr style=\"text-align: right;\">\n",
       "      <th></th>\n",
       "      <th>Scikit-Learn Logreg</th>\n",
       "      <th>SAS Logreg</th>\n",
       "      <th>Scikit-Learn GBM</th>\n",
       "      <th>SAS GBM</th>\n",
       "    </tr>\n",
       "  </thead>\n",
       "  <tbody>\n",
       "    <tr>\n",
       "      <th>Train</th>\n",
       "      <td>0.425996</td>\n",
       "      <td>0.425997</td>\n",
       "      <td>0.486825</td>\n",
       "      <td>0.537974</td>\n",
       "    </tr>\n",
       "    <tr>\n",
       "      <th>Test</th>\n",
       "      <td>0.331879</td>\n",
       "      <td>0.331829</td>\n",
       "      <td>0.371558</td>\n",
       "      <td>0.370430</td>\n",
       "    </tr>\n",
       "  </tbody>\n",
       "</table>\n",
       "</div>"
      ],
      "text/plain": [
       "       Scikit-Learn Logreg  SAS Logreg  Scikit-Learn GBM   SAS GBM\n",
       "Train             0.425996    0.425997          0.486825  0.537974\n",
       "Test              0.331879    0.331829          0.371558  0.370430"
      ]
     },
     "execution_count": 50,
     "metadata": {},
     "output_type": "execute_result"
    }
   ],
   "source": [
    "syn_model_comparison = pd.DataFrame(\n",
    "    {'Scikit-Learn Logreg': [syn_sklg_train_gini, syn_sklg_test_gini], \n",
    "    'SAS Logreg': [syn_saslg_train_gini, syn_saslg_test_gini],\n",
    "    'Scikit-Learn GBM': [syn_skgb_train_gini, syn_skgb_test_gini],\n",
    "    'SAS GBM': [syn_sasgb_train_gini, syn_sasgb_test_gini]},\n",
    "    [\"Train\", \"Test\"])\n",
    "syn_model_comparison\n"
   ]
  },
  {
   "cell_type": "markdown",
   "id": "a016384b",
   "metadata": {},
   "source": [
    "#### Comparing Model Performance on Holdout - Original Vs. Synthetic"
   ]
  },
  {
   "cell_type": "code",
   "execution_count": 51,
   "id": "e033fca5",
   "metadata": {},
   "outputs": [
    {
     "data": {
      "text/html": [
       "<div>\n",
       "<style scoped>\n",
       "    .dataframe tbody tr th:only-of-type {\n",
       "        vertical-align: middle;\n",
       "    }\n",
       "\n",
       "    .dataframe tbody tr th {\n",
       "        vertical-align: top;\n",
       "    }\n",
       "\n",
       "    .dataframe thead th {\n",
       "        text-align: right;\n",
       "    }\n",
       "</style>\n",
       "<table border=\"1\" class=\"dataframe\">\n",
       "  <thead>\n",
       "    <tr style=\"text-align: right;\">\n",
       "      <th></th>\n",
       "      <th>Scikit-Learn Logreg</th>\n",
       "      <th>SAS Logreg</th>\n",
       "      <th>Scikit-Learn GBM</th>\n",
       "      <th>SAS GBM</th>\n",
       "    </tr>\n",
       "  </thead>\n",
       "  <tbody>\n",
       "    <tr>\n",
       "      <th>Original</th>\n",
       "      <td>0.340888</td>\n",
       "      <td>0.340059</td>\n",
       "      <td>0.326611</td>\n",
       "      <td>0.317212</td>\n",
       "    </tr>\n",
       "    <tr>\n",
       "      <th>Synthetic</th>\n",
       "      <td>0.331879</td>\n",
       "      <td>0.331829</td>\n",
       "      <td>0.371558</td>\n",
       "      <td>0.370430</td>\n",
       "    </tr>\n",
       "    <tr>\n",
       "      <th>Gini Change</th>\n",
       "      <td>-0.009009</td>\n",
       "      <td>-0.008230</td>\n",
       "      <td>0.044947</td>\n",
       "      <td>0.053218</td>\n",
       "    </tr>\n",
       "  </tbody>\n",
       "</table>\n",
       "</div>"
      ],
      "text/plain": [
       "             Scikit-Learn Logreg  SAS Logreg  Scikit-Learn GBM   SAS GBM\n",
       "Original                0.340888    0.340059          0.326611  0.317212\n",
       "Synthetic               0.331879    0.331829          0.371558  0.370430\n",
       "Gini Change            -0.009009   -0.008230          0.044947  0.053218"
      ]
     },
     "execution_count": 51,
     "metadata": {},
     "output_type": "execute_result"
    }
   ],
   "source": [
    "performance_comparison = pd.DataFrame(\n",
    "    {'Scikit-Learn Logreg': [sklg_test_gini, syn_sklg_test_gini, syn_sklg_test_gini - sklg_test_gini], \n",
    "    'SAS Logreg': [saslg_test_gini, syn_saslg_test_gini, syn_saslg_test_gini - saslg_test_gini],\n",
    "    'Scikit-Learn GBM': [skgb_test_gini, syn_skgb_test_gini, syn_skgb_test_gini - skgb_test_gini],\n",
    "    'SAS GBM': [sasgb_test_gini, syn_sasgb_test_gini, syn_sasgb_test_gini - sasgb_test_gini]},\n",
    "    [\"Original\", \"Synthetic\", \"Gini Change\"])\n",
    "performance_comparison"
   ]
  },
  {
   "cell_type": "markdown",
   "id": "77a46045",
   "metadata": {},
   "source": [
    "### Create Scorecard\n",
    "\n",
    "Using the logistic regression parameters and estimates, we create our scorecard and score all of the entries"
   ]
  },
  {
   "cell_type": "code",
   "execution_count": 52,
   "id": "1277262b",
   "metadata": {},
   "outputs": [],
   "source": [
    "# Parameter Table from Logistic Regression\n",
    "lr_woe_mod_params = pd.DataFrame(syn_saslg.details_.ParameterEstimates)\n",
    "lr_woe_mod_params = lr_woe_mod_params[['Parameter','Estimate']]\n",
    "# Since event level selected was the oppposite\n",
    "lr_woe_mod_params['Estimate'] = lr_woe_mod_params['Estimate'] * - 1\n",
    "# lr_woe_mod_params"
   ]
  },
  {
   "cell_type": "code",
   "execution_count": 53,
   "id": "2d775eb5",
   "metadata": {},
   "outputs": [],
   "source": [
    "# Intercept\n",
    "intercept = lr_woe_mod_params['Estimate'][0]\n",
    "\n",
    "# Drop Intercept\n",
    "lr_woe_mod_params_est = lr_woe_mod_params[lr_woe_mod_params['Parameter'] != 'Intercept']"
   ]
  },
  {
   "cell_type": "code",
   "execution_count": 54,
   "id": "6f24f6f0",
   "metadata": {},
   "outputs": [],
   "source": [
    "woe_transform_credit_data = woe_transform_credit_data.fillna(0)\n",
    "# woe_transform_credit_data.head()"
   ]
  },
  {
   "cell_type": "code",
   "execution_count": 55,
   "id": "409be62d",
   "metadata": {},
   "outputs": [],
   "source": [
    "# Filter WOE Transform Table to Only Selected Features from Logistic Regression\n",
    "selected_params = lr_woe_mod_params_est['Parameter']\n",
    "\n",
    "woe_transform_credit_data_selected = woe_transform_credit_data[selected_params]"
   ]
  },
  {
   "cell_type": "code",
   "execution_count": 56,
   "id": "4460be31",
   "metadata": {},
   "outputs": [
    {
     "data": {
      "text/plain": [
       "(9578, 13)"
      ]
     },
     "metadata": {},
     "output_type": "display_data"
    },
    {
     "data": {
      "text/plain": [
       "(14, 2)"
      ]
     },
     "metadata": {},
     "output_type": "display_data"
    }
   ],
   "source": [
    "# Ensure Shapes are Correct for Matrix Multiplication\n",
    "display(woe_transform_credit_data_selected.shape)\n",
    "display(lr_woe_mod_params.shape)"
   ]
  },
  {
   "cell_type": "code",
   "execution_count": 57,
   "id": "8bcf5f35",
   "metadata": {},
   "outputs": [],
   "source": [
    "# Set Parameter Name as Index\n",
    "lr_woe_mod_params_index = lr_woe_mod_params_est.set_index('Parameter')"
   ]
  },
  {
   "cell_type": "code",
   "execution_count": 58,
   "id": "4d398962",
   "metadata": {},
   "outputs": [],
   "source": [
    "# Multiply lr coefficients to observation WOE Values\n",
    "scorecard = woe_transform_credit_data_selected[lr_woe_mod_params_index.index].apply(lambda x: x*lr_woe_mod_params_index['Estimate'].T,axis=1)"
   ]
  },
  {
   "cell_type": "code",
   "execution_count": 59,
   "id": "0933367d",
   "metadata": {},
   "outputs": [],
   "source": [
    "# Get Logit Values\n",
    "scorecard['logit'] = scorecard[list(scorecard.columns)].sum(axis=1) + intercept"
   ]
  },
  {
   "cell_type": "code",
   "execution_count": 60,
   "id": "9cfc60be",
   "metadata": {},
   "outputs": [],
   "source": [
    "# Convert Logit to Odds Ratio and Odds Ratio to Probability\n",
    "scorecard['odds'] = np.exp(scorecard['logit'])\n",
    "scorecard['probs'] = scorecard['odds'] / (scorecard['odds'] + 1)"
   ]
  },
  {
   "cell_type": "code",
   "execution_count": 61,
   "id": "d17e13d8",
   "metadata": {},
   "outputs": [],
   "source": [
    "# Set up Scoring Logic\n",
    "target_score = 600\n",
    "target_odds = 30\n",
    "pts_double_odds = 20\n",
    "\n",
    "factor = pts_double_odds / np.log(2)\n",
    "offset = target_score - factor * np.log(target_odds)"
   ]
  },
  {
   "cell_type": "code",
   "execution_count": 62,
   "id": "70cbbbb2",
   "metadata": {},
   "outputs": [],
   "source": [
    "# Score\n",
    "scorecard['score'] = offset + factor * scorecard['logit']"
   ]
  },
  {
   "cell_type": "code",
   "execution_count": 63,
   "id": "f039b31a",
   "metadata": {},
   "outputs": [],
   "source": [
    "# Add Back Customer ID and Target Features\n",
    "scorecard[target] = woe_transform_credit_data[target]"
   ]
  },
  {
   "cell_type": "code",
   "execution_count": 64,
   "id": "3749438d",
   "metadata": {},
   "outputs": [],
   "source": [
    "# Remove Score Outliers (245, 0.156% of Total)\n",
    "scorecard = scorecard[scorecard['score'] <= 600]"
   ]
  },
  {
   "cell_type": "code",
   "execution_count": 65,
   "id": "7fdc0ccd",
   "metadata": {},
   "outputs": [
    {
     "data": {
      "image/png": "[encoded data removed]",
      "text/plain": [
       "<Figure size 1600x800 with 1 Axes>"
      ]
     },
     "metadata": {},
     "output_type": "display_data"
    }
   ],
   "source": [
    "# Plot Scores Against Predicted Odds (Exponential Relationship)\n",
    "plt.figure(figsize=(16,8))\n",
    "\n",
    "plt.scatter(x='score',\n",
    "            y='odds',\n",
    "            data=scorecard,\n",
    "            color='#317DC2')\n",
    "\n",
    "plt.title('Score by Predicted Odds', fontweight=\"bold\", fontsize=14)\n",
    "plt.xlabel('Score')\n",
    "plt.ylabel('Odds');"
   ]
  },
  {
   "cell_type": "code",
   "execution_count": 66,
   "id": "0a3a19cd",
   "metadata": {},
   "outputs": [
    {
     "data": {
      "image/png": "[encoded data removed]",
      "text/plain": [
       "<Figure size 1600x800 with 1 Axes>"
      ]
     },
     "metadata": {},
     "output_type": "display_data"
    }
   ],
   "source": [
    "# Plot Scores Against Probabilities\n",
    "plt.figure(figsize=(16,8))\n",
    "\n",
    "plt.scatter(x='score',\n",
    "            y='probs',\n",
    "            data=scorecard,\n",
    "            color='#317DC2')\n",
    "\n",
    "plt.title('Scores by Probability', fontweight=\"bold\", fontsize=14)\n",
    "plt.xlabel('Score')\n",
    "plt.ylabel('Probability (Good)');"
   ]
  },
  {
   "cell_type": "code",
   "execution_count": 67,
   "id": "e81d4f18",
   "metadata": {},
   "outputs": [
    {
     "data": {
      "text/plain": [
       "<matplotlib.lines.Line2D at 0x7f5b57207950>"
      ]
     },
     "execution_count": 67,
     "metadata": {},
     "output_type": "execute_result"
    },
    {
     "data": {
      "image/png": "[encoded data removed]",
      "text/plain": [
       "<Figure size 1600x800 with 1 Axes>"
      ]
     },
     "metadata": {},
     "output_type": "display_data"
    }
   ],
   "source": [
    "# Add Scoring Groups to Plot\n",
    "plt.figure(figsize=(16,8))\n",
    "\n",
    "plt.hist(scorecard['score'],\n",
    "         bins=150,\n",
    "         edgecolor='white',\n",
    "         color = '#317DC2',\n",
    "         linewidth=1.2)\n",
    "\n",
    "# plt.xlim(350,560)\n",
    "plt.title('Scoring Groups', fontweight=\"bold\", fontsize=14)\n",
    "plt.xlabel('Score')\n",
    "plt.ylabel('Count')\n",
    "\n",
    "# Percentile Lines\n",
    "plt.axvline(np.percentile(scorecard['score'],25), color='red', linestyle='dashed', linewidth=2, alpha=0.6)\n",
    "plt.axvline(np.percentile(scorecard['score'],50), color='orange', linestyle='dashed', linewidth=2, alpha=0.6)\n",
    "plt.axvline(np.percentile(scorecard['score'],75), color='green', linestyle='dashed', linewidth=2, alpha=0.6)"
   ]
  },
  {
   "cell_type": "markdown",
   "id": "bae86e4c",
   "metadata": {},
   "source": [
    "#### Create Scorecard Points System"
   ]
  },
  {
   "cell_type": "code",
   "execution_count": 68,
   "id": "acb80496",
   "metadata": {},
   "outputs": [],
   "source": [
    "model_summary = lr_woe_mod_params.rename(\n",
    "    columns={\"Parameter\": \"Characteristic\"}\n",
    ")"
   ]
  },
  {
   "cell_type": "code",
   "execution_count": 69,
   "id": "9f060c21",
   "metadata": {},
   "outputs": [
    {
     "data": {
      "text/html": [
       "<div>\n",
       "<style scoped>\n",
       "    .dataframe tbody tr th:only-of-type {\n",
       "        vertical-align: middle;\n",
       "    }\n",
       "\n",
       "    .dataframe tbody tr th {\n",
       "        vertical-align: top;\n",
       "    }\n",
       "\n",
       "    .dataframe thead th {\n",
       "        text-align: right;\n",
       "    }\n",
       "</style>\n",
       "<table border=\"1\" class=\"dataframe\">\n",
       "  <thead>\n",
       "    <tr style=\"text-align: right;\">\n",
       "      <th></th>\n",
       "      <th>Characteristic</th>\n",
       "      <th>Estimate</th>\n",
       "    </tr>\n",
       "  </thead>\n",
       "  <tbody>\n",
       "    <tr>\n",
       "      <th>0</th>\n",
       "      <td>Intercept</td>\n",
       "      <td>-0.407298</td>\n",
       "    </tr>\n",
       "    <tr>\n",
       "      <th>1</th>\n",
       "      <td>CreditLineAge</td>\n",
       "      <td>-0.475043</td>\n",
       "    </tr>\n",
       "    <tr>\n",
       "      <th>2</th>\n",
       "      <td>CreditPolicy</td>\n",
       "      <td>-0.021843</td>\n",
       "    </tr>\n",
       "    <tr>\n",
       "      <th>3</th>\n",
       "      <td>DebtIncRatio</td>\n",
       "      <td>-0.254554</td>\n",
       "    </tr>\n",
       "    <tr>\n",
       "      <th>4</th>\n",
       "      <td>Delinquencies2Yrs</td>\n",
       "      <td>0.438662</td>\n",
       "    </tr>\n",
       "    <tr>\n",
       "      <th>5</th>\n",
       "      <td>FICOScore</td>\n",
       "      <td>-0.552367</td>\n",
       "    </tr>\n",
       "    <tr>\n",
       "      <th>6</th>\n",
       "      <td>Inquiries6Mnths</td>\n",
       "      <td>-0.821462</td>\n",
       "    </tr>\n",
       "    <tr>\n",
       "      <th>7</th>\n",
       "      <td>Installment</td>\n",
       "      <td>-1.190979</td>\n",
       "    </tr>\n",
       "    <tr>\n",
       "      <th>8</th>\n",
       "      <td>InterestRate</td>\n",
       "      <td>-0.330898</td>\n",
       "    </tr>\n",
       "    <tr>\n",
       "      <th>9</th>\n",
       "      <td>LogAnnualInc</td>\n",
       "      <td>-1.173540</td>\n",
       "    </tr>\n",
       "    <tr>\n",
       "      <th>10</th>\n",
       "      <td>PublicRecord</td>\n",
       "      <td>-0.626969</td>\n",
       "    </tr>\n",
       "    <tr>\n",
       "      <th>11</th>\n",
       "      <td>RevBalance</td>\n",
       "      <td>-0.637907</td>\n",
       "    </tr>\n",
       "    <tr>\n",
       "      <th>12</th>\n",
       "      <td>RevUtilization</td>\n",
       "      <td>-0.348295</td>\n",
       "    </tr>\n",
       "    <tr>\n",
       "      <th>13</th>\n",
       "      <td>Purpose</td>\n",
       "      <td>-0.962642</td>\n",
       "    </tr>\n",
       "  </tbody>\n",
       "</table>\n",
       "</div>"
      ],
      "text/plain": [
       "       Characteristic  Estimate\n",
       "0           Intercept -0.407298\n",
       "1       CreditLineAge -0.475043\n",
       "2        CreditPolicy -0.021843\n",
       "3        DebtIncRatio -0.254554\n",
       "4   Delinquencies2Yrs  0.438662\n",
       "5           FICOScore -0.552367\n",
       "6     Inquiries6Mnths -0.821462\n",
       "7         Installment -1.190979\n",
       "8        InterestRate -0.330898\n",
       "9        LogAnnualInc -1.173540\n",
       "10       PublicRecord -0.626969\n",
       "11         RevBalance -0.637907\n",
       "12     RevUtilization -0.348295\n",
       "13            Purpose -0.962642"
      ]
     },
     "execution_count": 69,
     "metadata": {},
     "output_type": "execute_result"
    }
   ],
   "source": [
    "model_summary['Characteristic'] = model_summary['Characteristic'].str.replace('woe_', '')\n",
    "model_summary"
   ]
  },
  {
   "cell_type": "code",
   "execution_count": 70,
   "id": "81a55159",
   "metadata": {},
   "outputs": [],
   "source": [
    "## Create a list of vars\n",
    "var_list = model_summary['Characteristic'].tolist()"
   ]
  },
  {
   "cell_type": "code",
   "execution_count": 71,
   "id": "bc34fa5f",
   "metadata": {},
   "outputs": [],
   "source": [
    "filtered_woe_bin_credit_data = woe_bin_credit_data[woe_bin_credit_data['Variable'].isin(var_list)]\n",
    "filtered_woe_bin_credit_data = filtered_woe_bin_credit_data[['Variable', 'BinId', 'WOE']]\n",
    "# filtered_woe_bin_credit_data"
   ]
  },
  {
   "cell_type": "code",
   "execution_count": 72,
   "id": "ee56658d",
   "metadata": {},
   "outputs": [],
   "source": [
    "filtered_woe_bin_credit_data = filtered_woe_bin_credit_data.reset_index().drop(columns={'index'}).rename(columns={\"Variable\": \"Characteristic\"})\n",
    "# filtered_woe_bin_credit_data"
   ]
  },
  {
   "cell_type": "code",
   "execution_count": 73,
   "id": "61787b37",
   "metadata": {},
   "outputs": [],
   "source": [
    "scorecard_pts = pd.merge(left = filtered_woe_bin_credit_data, right = model_summary, how='left', on=['Characteristic'])\n",
    "# scorecard_pts"
   ]
  },
  {
   "cell_type": "code",
   "execution_count": 74,
   "id": "2993dfaf",
   "metadata": {},
   "outputs": [],
   "source": [
    "WOE = scorecard_pts['WOE']\n",
    "beta = scorecard_pts['Estimate']"
   ]
  },
  {
   "cell_type": "code",
   "execution_count": 75,
   "id": "29ed750f",
   "metadata": {},
   "outputs": [],
   "source": [
    "n = len(syn_saslg.coef_.columns)"
   ]
  },
  {
   "cell_type": "code",
   "execution_count": 76,
   "id": "328738af",
   "metadata": {},
   "outputs": [],
   "source": [
    "scorecard_pts['Points'] = (offset/n) - factor*((intercept/n) + (beta*WOE))\n",
    "scorecard_pts['Points'] = scorecard_pts['Points'].astype('int')"
   ]
  },
  {
   "cell_type": "code",
   "execution_count": 77,
   "id": "8fdfd5b6",
   "metadata": {},
   "outputs": [
    {
     "name": "stdout",
     "output_type": "stream",
     "text": [
      "       Characteristic  BinId       WOE  Estimate  Points\n",
      "0       CreditLineAge      1 -0.369055 -0.475043      34\n",
      "1       CreditLineAge      2 -0.079814 -0.475043      38\n",
      "2       CreditLineAge      3  0.202928 -0.475043      42\n",
      "3       CreditLineAge      4 -0.106925 -0.475043      38\n",
      "4       CreditLineAge      5  0.085429 -0.475043      40\n",
      "5       CreditLineAge      6 -0.071398 -0.475043      38\n",
      "6       CreditLineAge      7  0.286656 -0.475043      43\n",
      "7        CreditPolicy      1 -0.702609 -0.021843      39\n",
      "8        CreditPolicy      2  0.229783 -0.021843      39\n",
      "9        DebtIncRatio      1  0.215303 -0.254554      41\n",
      "10       DebtIncRatio      2  0.037101 -0.254554      39\n",
      "11       DebtIncRatio      3  0.187442 -0.254554      40\n",
      "12       DebtIncRatio      4 -0.036265 -0.254554      39\n",
      "13       DebtIncRatio      5  0.180455 -0.254554      40\n",
      "14       DebtIncRatio      6 -0.035357 -0.254554      39\n",
      "15       DebtIncRatio      7 -0.192123 -0.254554      38\n",
      "16  Delinquencies2Yrs      1  0.014796  0.438662      39\n",
      "17  Delinquencies2Yrs      2 -0.107227  0.438662      40\n",
      "18          FICOScore      1 -0.852058 -0.552367      25\n",
      "19          FICOScore      2 -0.404546 -0.552367      33\n",
      "20          FICOScore      3 -0.129117 -0.552367      37\n",
      "21          FICOScore      4  0.126043 -0.552367      41\n",
      "22          FICOScore      5  0.559689 -0.552367      48\n",
      "23          FICOScore      6  0.827082 -0.552367      52\n",
      "24          FICOScore      7  1.139136 -0.552367      57\n",
      "25    Inquiries6Mnths      1  0.359418 -0.821462      48\n",
      "26    Inquiries6Mnths      2  0.068201 -0.821462      41\n",
      "27    Inquiries6Mnths      3  0.132250 -0.821462      42\n",
      "28    Inquiries6Mnths      4 -0.380894 -0.821462      30\n",
      "29    Inquiries6Mnths      5 -0.916668 -0.821462      17\n",
      "30        Installment      1 -0.014437 -1.190979      39\n",
      "31        Installment      2  0.233026 -1.190979      47\n",
      "32        Installment      3 -0.224907 -1.190979      31\n",
      "33        Installment      4  0.276514 -1.190979      49\n",
      "34        Installment      5 -0.148974 -1.190979      34\n",
      "35        Installment      6  0.018073 -1.190979      40\n",
      "36        Installment      7 -0.524365 -1.190979      21\n",
      "37       InterestRate      1  1.482772 -0.330898      53\n",
      "38       InterestRate      2  0.866112 -0.330898      47\n",
      "39       InterestRate      3  0.105575 -0.330898      40\n",
      "40       InterestRate      4 -0.126672 -0.330898      38\n",
      "41       InterestRate      5 -0.438926 -0.330898      35\n",
      "42       InterestRate      6 -0.275925 -0.330898      36\n",
      "43       InterestRate      7 -0.756571 -0.330898      32\n",
      "44       LogAnnualInc      1 -0.340076 -1.173540      27\n",
      "45       LogAnnualInc      2 -0.073598 -1.173540      37\n",
      "46       LogAnnualInc      3  0.049301 -1.173540      41\n",
      "47       LogAnnualInc      4 -0.012439 -1.173540      39\n",
      "48       LogAnnualInc      5  0.094388 -1.173540      42\n",
      "49       LogAnnualInc      6  0.249246 -1.173540      47\n",
      "50       LogAnnualInc      7 -0.250911 -1.173540      31\n",
      "51       PublicRecord      1  0.040583 -0.626969      40\n",
      "52       PublicRecord      2 -0.542445 -0.626969      29\n",
      "53         RevBalance      1  0.040092 -0.637907      40\n",
      "54         RevBalance      2  0.068670 -0.637907      40\n",
      "55         RevBalance      3  0.008954 -0.637907      39\n",
      "56         RevBalance      4 -0.363167 -0.637907      32\n",
      "57     RevUtilization      1  0.033613 -0.348295      39\n",
      "58     RevUtilization      2  0.677551 -0.348295      46\n",
      "59     RevUtilization      3  0.379058 -0.348295      43\n",
      "60     RevUtilization      4  0.058712 -0.348295      40\n",
      "61     RevUtilization      5 -0.261167 -0.348295      36\n",
      "62     RevUtilization      6 -0.051021 -0.348295      38\n",
      "63     RevUtilization      7 -0.362195 -0.348295      35\n",
      "64            Purpose      1 -0.702760 -0.962642      19\n",
      "65            Purpose      2 -0.148709 -0.962642      35\n",
      "66            Purpose      3 -0.043746 -0.962642      38\n",
      "67            Purpose      4  0.058168 -0.962642      41\n",
      "68            Purpose      5  0.385060 -0.962642      50\n"
     ]
    }
   ],
   "source": [
    "pd.set_option('display.max_rows', None)\n",
    "print(scorecard_pts)\n"
   ]
  },
  {
   "cell_type": "markdown",
   "id": "0546f7e6",
   "metadata": {},
   "source": [
    "## Register Model to Model Manager"
   ]
  },
  {
   "cell_type": "code",
   "execution_count": 78,
   "id": "6da58f03",
   "metadata": {},
   "outputs": [],
   "source": [
    "from sasctl import pzmm\n",
    "from sasctl import Session\n",
    "from sasctl.services import model_repository as mr, model_management as mm\n",
    "from pathlib import Path\n",
    "import requests\n",
    "import os"
   ]
  },
  {
   "cell_type": "code",
   "execution_count": 79,
   "id": "81de4efe",
   "metadata": {},
   "outputs": [],
   "source": [
    "## get access token for viya env using refresh token. change to your own viya server and preferred authentication method.\n",
    "url = \"https://apgtps2demo.gtp.unx.sas.com\"\n",
    "auth_url = f\"{url}/SASLogon/oauth/token\"\n",
    "## reading long-lived refresh token from txt file\n",
    "refresh_token = Path(f'/workspaces/{os.environ[\"DEFAULT_MOUNTNAME\"]}/apgtps2demo_refresh_token.txt').read_text().replace('\\n', '')\n",
    "\n",
    "payload=f'grant_type=refresh_token&refresh_token={refresh_token}'\n",
    "headers = {\n",
    "  'Accept': 'application/json',\n",
    "  'Content-Type': 'application/x-www-form-urlencoded',\n",
    "  'Authorization': 'Basic c2FzLmNsaTo=',\n",
    "}\n",
    "\n",
    "response = requests.request(\"POST\", auth_url, headers=headers, data=payload, verify=False)\n",
    "access_token = response.json()['access_token']"
   ]
  },
  {
   "cell_type": "code",
   "execution_count": 80,
   "id": "77e6fb64",
   "metadata": {},
   "outputs": [
    {
     "data": {
      "text/plain": [
       "<sasctl.core.Session at 0x7f5b56e24910>"
      ]
     },
     "execution_count": 80,
     "metadata": {},
     "output_type": "execute_result"
    }
   ],
   "source": [
    "st = Session(\"https://apgtps2demo.gtp.unx.sas.com\", token=access_token, verify_ssl=False)\n",
    "st"
   ]
  },
  {
   "cell_type": "code",
   "execution_count": 81,
   "id": "297fef3c",
   "metadata": {},
   "outputs": [
    {
     "name": "stderr",
     "output_type": "stream",
     "text": [
      "/usr/local/lib/python3.11/site-packages/urllib3/connectionpool.py:1103: InsecureRequestWarning: Unverified HTTPS request is being made to host 'apgtps2demo.gtp.unx.sas.com'. Adding certificate verification is strongly advised. See: https://urllib3.readthedocs.io/en/latest/advanced-usage.html#tls-warnings\n",
      "  warnings.warn(\n"
     ]
    },
    {
     "data": {
      "text/plain": [
       "'DMRepository'"
      ]
     },
     "execution_count": 81,
     "metadata": {},
     "output_type": "execute_result"
    }
   ],
   "source": [
    "repository = mr.get_repository('DMRepository')\n",
    "repository.name"
   ]
  },
  {
   "cell_type": "code",
   "execution_count": 82,
   "id": "17a144a5",
   "metadata": {},
   "outputs": [],
   "source": [
    "project_name = \"WB Lending Club Risk\" "
   ]
  },
  {
   "cell_type": "code",
   "execution_count": 83,
   "id": "9512111b",
   "metadata": {},
   "outputs": [],
   "source": [
    "try:\n",
    "    project = mr.create_project(project_name, repository)\n",
    "    project = mr.get_project(project_name)\n",
    "except:\n",
    "    project = mr.get_project(project_name)"
   ]
  },
  {
   "cell_type": "code",
   "execution_count": 84,
   "id": "d46f26bd",
   "metadata": {},
   "outputs": [],
   "source": [
    "def register_model(model_name, model, project):\n",
    "    model_params = {\n",
    "        \"name\": model_name,\n",
    "        \"projectId\": project.id,\n",
    "        \"type\": \"ASTORE\",\n",
    "    }\n",
    "    astore = mr.post(\n",
    "        \"/models\",\n",
    "        files={\"files\": (f\"{model_name}.astore\", model.export())},\n",
    "        data=model_params,\n",
    "    )\n",
    "    "
   ]
  },
  {
   "cell_type": "code",
   "execution_count": 85,
   "id": "4d5989a5",
   "metadata": {},
   "outputs": [],
   "source": [
    "register_model(\"SASViyaML_LogisticRegression\", syn_saslg, project)"
   ]
  },
  {
   "cell_type": "code",
   "execution_count": 86,
   "id": "52a2c098",
   "metadata": {},
   "outputs": [],
   "source": [
    "register_model(\"SASViyaML_GradientBoosting\", syn_sasgb, project)"
   ]
  }
 ],
 "metadata": {
  "kernelspec": {
   "display_name": "Workbench Python",
   "language": "python",
   "name": "workbench_python"
  },
  "language_info": {
   "codemirror_mode": {
    "name": "ipython",
    "version": 3
   },
   "file_extension": ".py",
   "mimetype": "text/x-python",
   "name": "python",
   "nbconvert_exporter": "python",
   "pygments_lexer": "ipython3",
   "version": "3.11.7"
  }
 },
 "nbformat": 4,
 "nbformat_minor": 5
}
